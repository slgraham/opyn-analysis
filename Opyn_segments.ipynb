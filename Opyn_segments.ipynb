{
 "cells": [
  {
   "cell_type": "code",
   "execution_count": 1,
   "metadata": {},
   "outputs": [],
   "source": [
    "import pandas as pd\n",
    "import numpy as np\n",
    "import matplotlib.pyplot as plt"
   ]
  },
  {
   "cell_type": "markdown",
   "metadata": {},
   "source": [
    "# Opyn Transaction and Vault Analysis"
   ]
  },
  {
   "cell_type": "code",
   "execution_count": 2,
   "metadata": {},
   "outputs": [],
   "source": [
    "txdf0 = pd.read_csv('oToken-Transactions.csv', dtype = {'value': float})\n",
    "#txdf = pd.read_csv('oToken-Transactions.csv')"
   ]
  },
  {
   "cell_type": "code",
   "execution_count": 3,
   "metadata": {},
   "outputs": [
    {
     "data": {
      "text/plain": [
       "Index(['tx', 'minute', 'value', 'account', 'side', 'type', 'token'], dtype='object')"
      ]
     },
     "execution_count": 3,
     "metadata": {},
     "output_type": "execute_result"
    }
   ],
   "source": [
    "txdf0.columns"
   ]
  },
  {
   "cell_type": "code",
   "execution_count": 4,
   "metadata": {},
   "outputs": [
    {
     "data": {
      "text/html": [
       "<div>\n",
       "<style scoped>\n",
       "    .dataframe tbody tr th:only-of-type {\n",
       "        vertical-align: middle;\n",
       "    }\n",
       "\n",
       "    .dataframe tbody tr th {\n",
       "        vertical-align: top;\n",
       "    }\n",
       "\n",
       "    .dataframe thead th {\n",
       "        text-align: right;\n",
       "    }\n",
       "</style>\n",
       "<table border=\"1\" class=\"dataframe\">\n",
       "  <thead>\n",
       "    <tr style=\"text-align: right;\">\n",
       "      <th></th>\n",
       "      <th>tx</th>\n",
       "      <th>minute</th>\n",
       "      <th>value</th>\n",
       "      <th>account</th>\n",
       "      <th>side</th>\n",
       "      <th>type</th>\n",
       "      <th>token</th>\n",
       "    </tr>\n",
       "  </thead>\n",
       "  <tbody>\n",
       "    <tr>\n",
       "      <th>0</th>\n",
       "      <td>014843ca795d44e17309a5c70bdfa28973d073883fbc4a...</td>\n",
       "      <td>02/10/20 20:01</td>\n",
       "      <td>0.00</td>\n",
       "      <td>5778f2824a114f6115dc74d432685d3336216017</td>\n",
       "      <td>buy</td>\n",
       "      <td>put</td>\n",
       "      <td>ocDAI</td>\n",
       "    </tr>\n",
       "    <tr>\n",
       "      <th>1</th>\n",
       "      <td>8f78cda0640a05c6ce42edd6c70fa4fb7a085f1f79d0f2...</td>\n",
       "      <td>02/11/20 22:30</td>\n",
       "      <td>0.00</td>\n",
       "      <td>1460771b713e8e58e350f9d82f7b83acb6b2e75f</td>\n",
       "      <td>buy</td>\n",
       "      <td>put</td>\n",
       "      <td>ocDAI</td>\n",
       "    </tr>\n",
       "    <tr>\n",
       "      <th>2</th>\n",
       "      <td>ee22249d3296f2a6241cecdfcabe7776e4072d3771c2da...</td>\n",
       "      <td>02/12/20 1:59</td>\n",
       "      <td>0.02</td>\n",
       "      <td>263fc4d9eb6da1ed296ea6d189b41e546a188d8a</td>\n",
       "      <td>buy</td>\n",
       "      <td>put</td>\n",
       "      <td>ocUSDC</td>\n",
       "    </tr>\n",
       "    <tr>\n",
       "      <th>3</th>\n",
       "      <td>5e2f03277e21e4d8e53ec2e85d808f2f4c699a3dcf43be...</td>\n",
       "      <td>02/12/20 2:58</td>\n",
       "      <td>1.59</td>\n",
       "      <td>263fc4d9eb6da1ed296ea6d189b41e546a188d8a</td>\n",
       "      <td>buy</td>\n",
       "      <td>put</td>\n",
       "      <td>ocDAI</td>\n",
       "    </tr>\n",
       "    <tr>\n",
       "      <th>4</th>\n",
       "      <td>1f0c4191949617e32a42b358b0d65adf08ac4a82b117b9...</td>\n",
       "      <td>02/12/20 6:25</td>\n",
       "      <td>16.31</td>\n",
       "      <td>5b0d9e4099bf629387a842ed6bff4dab70573f31</td>\n",
       "      <td>buy</td>\n",
       "      <td>put</td>\n",
       "      <td>ocDAI</td>\n",
       "    </tr>\n",
       "  </tbody>\n",
       "</table>\n",
       "</div>"
      ],
      "text/plain": [
       "                                                  tx          minute  value  \\\n",
       "0  014843ca795d44e17309a5c70bdfa28973d073883fbc4a...  02/10/20 20:01   0.00   \n",
       "1  8f78cda0640a05c6ce42edd6c70fa4fb7a085f1f79d0f2...  02/11/20 22:30   0.00   \n",
       "2  ee22249d3296f2a6241cecdfcabe7776e4072d3771c2da...   02/12/20 1:59   0.02   \n",
       "3  5e2f03277e21e4d8e53ec2e85d808f2f4c699a3dcf43be...   02/12/20 2:58   1.59   \n",
       "4  1f0c4191949617e32a42b358b0d65adf08ac4a82b117b9...   02/12/20 6:25  16.31   \n",
       "\n",
       "                                    account side type   token  \n",
       "0  5778f2824a114f6115dc74d432685d3336216017  buy  put   ocDAI  \n",
       "1  1460771b713e8e58e350f9d82f7b83acb6b2e75f  buy  put   ocDAI  \n",
       "2  263fc4d9eb6da1ed296ea6d189b41e546a188d8a  buy  put  ocUSDC  \n",
       "3  263fc4d9eb6da1ed296ea6d189b41e546a188d8a  buy  put   ocDAI  \n",
       "4  5b0d9e4099bf629387a842ed6bff4dab70573f31  buy  put   ocDAI  "
      ]
     },
     "execution_count": 4,
     "metadata": {},
     "output_type": "execute_result"
    }
   ],
   "source": [
    "txdf0.head()"
   ]
  },
  {
   "cell_type": "code",
   "execution_count": 5,
   "metadata": {},
   "outputs": [],
   "source": [
    "txdf = txdf0[txdf0.account != '076c95c6cd2eb823acc6347fdf5b3dd9b83511e4'].drop(columns = ['tx', 'minute', 'type'])"
   ]
  },
  {
   "cell_type": "code",
   "execution_count": 6,
   "metadata": {},
   "outputs": [
    {
     "data": {
      "text/html": [
       "<div>\n",
       "<style scoped>\n",
       "    .dataframe tbody tr th:only-of-type {\n",
       "        vertical-align: middle;\n",
       "    }\n",
       "\n",
       "    .dataframe tbody tr th {\n",
       "        vertical-align: top;\n",
       "    }\n",
       "\n",
       "    .dataframe thead th {\n",
       "        text-align: right;\n",
       "    }\n",
       "</style>\n",
       "<table border=\"1\" class=\"dataframe\">\n",
       "  <thead>\n",
       "    <tr style=\"text-align: right;\">\n",
       "      <th></th>\n",
       "      <th>value</th>\n",
       "      <th>account</th>\n",
       "      <th>side</th>\n",
       "      <th>token</th>\n",
       "    </tr>\n",
       "  </thead>\n",
       "  <tbody>\n",
       "    <tr>\n",
       "      <th>0</th>\n",
       "      <td>0.00</td>\n",
       "      <td>5778f2824a114f6115dc74d432685d3336216017</td>\n",
       "      <td>buy</td>\n",
       "      <td>ocDAI</td>\n",
       "    </tr>\n",
       "    <tr>\n",
       "      <th>1</th>\n",
       "      <td>0.00</td>\n",
       "      <td>1460771b713e8e58e350f9d82f7b83acb6b2e75f</td>\n",
       "      <td>buy</td>\n",
       "      <td>ocDAI</td>\n",
       "    </tr>\n",
       "    <tr>\n",
       "      <th>2</th>\n",
       "      <td>0.02</td>\n",
       "      <td>263fc4d9eb6da1ed296ea6d189b41e546a188d8a</td>\n",
       "      <td>buy</td>\n",
       "      <td>ocUSDC</td>\n",
       "    </tr>\n",
       "    <tr>\n",
       "      <th>3</th>\n",
       "      <td>1.59</td>\n",
       "      <td>263fc4d9eb6da1ed296ea6d189b41e546a188d8a</td>\n",
       "      <td>buy</td>\n",
       "      <td>ocDAI</td>\n",
       "    </tr>\n",
       "    <tr>\n",
       "      <th>4</th>\n",
       "      <td>16.31</td>\n",
       "      <td>5b0d9e4099bf629387a842ed6bff4dab70573f31</td>\n",
       "      <td>buy</td>\n",
       "      <td>ocDAI</td>\n",
       "    </tr>\n",
       "  </tbody>\n",
       "</table>\n",
       "</div>"
      ],
      "text/plain": [
       "   value                                   account side   token\n",
       "0   0.00  5778f2824a114f6115dc74d432685d3336216017  buy   ocDAI\n",
       "1   0.00  1460771b713e8e58e350f9d82f7b83acb6b2e75f  buy   ocDAI\n",
       "2   0.02  263fc4d9eb6da1ed296ea6d189b41e546a188d8a  buy  ocUSDC\n",
       "3   1.59  263fc4d9eb6da1ed296ea6d189b41e546a188d8a  buy   ocDAI\n",
       "4  16.31  5b0d9e4099bf629387a842ed6bff4dab70573f31  buy   ocDAI"
      ]
     },
     "execution_count": 6,
     "metadata": {},
     "output_type": "execute_result"
    }
   ],
   "source": [
    "txdf.head()"
   ]
  },
  {
   "cell_type": "code",
   "execution_count": 7,
   "metadata": {},
   "outputs": [],
   "source": [
    "%matplotlib inline"
   ]
  },
  {
   "cell_type": "code",
   "execution_count": 8,
   "metadata": {},
   "outputs": [],
   "source": [
    "ocDAI = txdf[txdf.token == 'ocDAI'].value\n",
    "ocUSDC = txdf[txdf.token == 'ocUSDC'].value\n",
    "oETH = txdf[txdf.token.str.match(r'^oETH')].value\n",
    "oCRV = txdf[txdf.token == 'oCRV'].value\n",
    "\n",
    "buydf = txdf[txdf.side == 'buy']\n",
    "\n",
    "ocDAI_buy = buydf[buydf.token == 'ocDAI'].value\n",
    "ocUSDC_buy = buydf[buydf.token == 'ocUSDC'].value\n",
    "oETH_buy = buydf[buydf.token.str.match(r'^oETH')].value\n",
    "oCRV_buy = buydf[buydf.token == 'oCRV'].value\n",
    "\n",
    "selldf = txdf[txdf.side == 'sell']\n",
    "\n",
    "ocDAI_sell = selldf[selldf.token == 'ocDAI'].value\n",
    "ocUSDC_sell = selldf[selldf.token == 'ocUSDC'].value\n",
    "oETH_sell = selldf[selldf.token.str.match(r'^oETH')].value\n",
    "oCRV_sell = selldf[selldf.token == 'oCRV'].value"
   ]
  },
  {
   "cell_type": "code",
   "execution_count": 9,
   "metadata": {},
   "outputs": [
    {
     "data": {
      "text/plain": [
       "(1967.2, 5982.981784548422, 1870.23, 5351.160890052356)"
      ]
     },
     "execution_count": 9,
     "metadata": {},
     "output_type": "execute_result"
    }
   ],
   "source": [
    "oETH_sell.median(), oETH_sell.mean(), oETH_buy.median(), oETH_buy.mean()"
   ]
  },
  {
   "cell_type": "code",
   "execution_count": 10,
   "metadata": {},
   "outputs": [
    {
     "data": {
      "text/plain": [
       "''"
      ]
     },
     "execution_count": 10,
     "metadata": {},
     "output_type": "execute_result"
    },
    {
     "data": {
      "image/png": "[encoded data removed]",
      "text/plain": [
       "<Figure size 432x288 with 1 Axes>"
      ]
     },
     "metadata": {
      "needs_background": "light"
     },
     "output_type": "display_data"
    }
   ],
   "source": [
    "import matplotlib.ticker as mtick\n",
    "\n",
    "hist, bins, _ = plt.hist(txdf.value, bins=50, density = False, weights=np.ones(len(txdf.value)) / len(txdf.value))\n",
    "ax = plt.gca()\n",
    "ax.yaxis.set_major_formatter(mtick.PercentFormatter(1))\n",
    "plt.ylim(0,.75)\n",
    "plt.title('Transaction Notional Value Distribution - Total')\n",
    "plt.xlabel('Transaction Notional Value ($)')\n",
    "plt.text(.5, .9, 'Bin size = ${}'.format(round(bins[1], 2)), horizontalalignment='center', verticalalignment='center', transform=ax.transAxes)\n",
    "; "
   ]
  },
  {
   "cell_type": "code",
   "execution_count": 11,
   "metadata": {},
   "outputs": [
    {
     "data": {
      "image/png": "[encoded data removed]",
      "text/plain": [
       "<Figure size 432x288 with 1 Axes>"
      ]
     },
     "metadata": {
      "needs_background": "light"
     },
     "output_type": "display_data"
    }
   ],
   "source": [
    "kwargs = dict(histtype='bar', alpha=.3, bins=np.logspace(np.log10(bins[0]+1),np.log10(bins[-1]),len(bins)))\n",
    "plt.axvline(txdf.value.median(), label = 'median', color = 'blue')\n",
    "plt.hist(txdf.value, **kwargs, label = 'value')\n",
    "plt.text(.4, .9, '$'+str(round(txdf.value.median(),2)), horizontalalignment='center', \n",
    "         verticalalignment='center', transform=ax.transAxes, color = 'blue')\n",
    "plt.xscale('log')\n",
    "plt.legend()\n",
    "plt.title('Transaction Notional Value Log Distribution - Total')\n",
    "plt.xlabel('Transaction Notional Value (log $)');"
   ]
  },
  {
   "cell_type": "code",
   "execution_count": 12,
   "metadata": {},
   "outputs": [
    {
     "data": {
      "image/png": "[encoded data removed]",
      "text/plain": [
       "<Figure size 432x288 with 1 Axes>"
      ]
     },
     "metadata": {
      "needs_background": "light"
     },
     "output_type": "display_data"
    }
   ],
   "source": [
    "plt.axvline(buydf.value.median(), label = 'buy_median', color = 'blue')\n",
    "plt.axvline(selldf.value.median(), label = 'sell_median', color = 'orange')\n",
    "plt.hist(buydf.value, **kwargs, label = 'buy')\n",
    "plt.hist(selldf.value, **kwargs, label = 'sell')\n",
    "plt.xscale('log')\n",
    "plt.legend()\n",
    "plt.ylim(0, 140)\n",
    "plt.title('Buy vs. Sell Transaction Notional Value Distributions - Total')\n",
    "plt.xlabel('Transaction Notional Value (log $)');"
   ]
  },
  {
   "cell_type": "code",
   "execution_count": 13,
   "metadata": {},
   "outputs": [
    {
     "data": {
      "text/plain": [
       "318.0"
      ]
     },
     "execution_count": 13,
     "metadata": {},
     "output_type": "execute_result"
    }
   ],
   "source": [
    "buydf.value.median()"
   ]
  },
  {
   "cell_type": "code",
   "execution_count": 14,
   "metadata": {},
   "outputs": [
    {
     "data": {
      "image/png": "[encoded data removed]",
      "text/plain": [
       "<Figure size 432x288 with 1 Axes>"
      ]
     },
     "metadata": {
      "needs_background": "light"
     },
     "output_type": "display_data"
    }
   ],
   "source": [
    "plt.hist(oETH, **kwargs, label = 'oETH')\n",
    "plt.hist(ocDAI, **kwargs, label = 'ocDAI')\n",
    "plt.hist(ocUSDC, **kwargs, label = 'ocUSDC')\n",
    "plt.hist(oCRV, **kwargs, label = 'oCRV')\n",
    "plt.axvline(oETH.median(), label = 'oETH_median', color = 'blue')\n",
    "plt.axvline(ocDAI.median(), label = 'ocDAI_median', color = 'orange')\n",
    "plt.axvline(ocUSDC.median(), label = 'ocUSDC_median', color = 'green')\n",
    "plt.axvline(oCRV.median(), label = 'oCRV_median', color = 'red')\n",
    "plt.xscale('log')\n",
    "plt.legend()\n",
    "plt.title('Transaction Notional Value Distribution by oToken')\n",
    "plt.xlabel('Transaction Notional Value (log $)');"
   ]
  },
  {
   "cell_type": "code",
   "execution_count": 15,
   "metadata": {},
   "outputs": [
    {
     "data": {
      "image/png": "[encoded data removed]",
      "text/plain": [
       "<Figure size 432x288 with 1 Axes>"
      ]
     },
     "metadata": {
      "needs_background": "light"
     },
     "output_type": "display_data"
    }
   ],
   "source": [
    "plt.hist(oETH_buy, **kwargs, label = 'oETH_buy')\n",
    "plt.hist(oETH_sell, **kwargs, label = 'oETH_sell')\n",
    "plt.axvline(oETH_buy.median(), label = 'buy_median', color = 'blue')\n",
    "plt.axvline(oETH_sell.median(), label = 'sell_median', color = 'orange')\n",
    "plt.xscale('log')\n",
    "plt.legend()\n",
    "plt.ylim(0, 140)\n",
    "plt.title('Transaction Notional Value Distribution - oETH')\n",
    "plt.xlabel('Transaction Notional Value (log $)');"
   ]
  },
  {
   "cell_type": "code",
   "execution_count": 16,
   "metadata": {},
   "outputs": [
    {
     "data": {
      "image/png": "[encoded data removed]",
      "text/plain": [
       "<Figure size 432x288 with 1 Axes>"
      ]
     },
     "metadata": {
      "needs_background": "light"
     },
     "output_type": "display_data"
    }
   ],
   "source": [
    "plt.hist(ocDAI_buy, **kwargs, label = 'ocDAI_buy')\n",
    "plt.hist(ocDAI_sell, **kwargs, label = 'ocDAI_sell')\n",
    "plt.axvline(ocDAI_buy.median(), label = 'buy_median', color = 'blue')\n",
    "plt.axvline(ocDAI_sell.median(), label = 'sell_median', color = 'orange')\n",
    "plt.xscale('log')\n",
    "plt.legend()\n",
    "plt.title('Transaction Notional Value Distribution - ocDAI')\n",
    "plt.xlabel('Transaction Notional Value (log $)');"
   ]
  },
  {
   "cell_type": "code",
   "execution_count": 17,
   "metadata": {},
   "outputs": [
    {
     "data": {
      "image/png": "[encoded data removed]",
      "text/plain": [
       "<Figure size 432x288 with 1 Axes>"
      ]
     },
     "metadata": {
      "needs_background": "light"
     },
     "output_type": "display_data"
    }
   ],
   "source": [
    "plt.hist(ocUSDC_buy, **kwargs, label = 'ocUSDC_buy')\n",
    "plt.hist(ocUSDC_sell, **kwargs, label = 'ocUSDC_sell')\n",
    "plt.axvline(ocUSDC_buy.median(), label = 'buy_median', color = 'blue')\n",
    "plt.axvline(ocUSDC_sell.median(), label = 'sell_median', color = 'orange')\n",
    "plt.xscale('log')\n",
    "plt.legend()\n",
    "plt.title('Transaction Notional Value Distribution - ocUSDC')\n",
    "plt.xlabel('Transaction Notional Value (log $)');"
   ]
  },
  {
   "cell_type": "code",
   "execution_count": 18,
   "metadata": {},
   "outputs": [
    {
     "data": {
      "image/png": "[encoded data removed]",
      "text/plain": [
       "<Figure size 432x288 with 1 Axes>"
      ]
     },
     "metadata": {
      "needs_background": "light"
     },
     "output_type": "display_data"
    }
   ],
   "source": [
    "plt.hist(oCRV_buy, **kwargs, label = 'oCRV_buy')\n",
    "plt.hist(oCRV_sell, **kwargs, label = 'oCRV_sell')\n",
    "plt.axvline(oETH_buy.median(), label = 'buy_median', color = 'blue')\n",
    "plt.axvline(oETH_sell.median(), label = 'sell_median', color = 'orange')\n",
    "plt.xscale('log')\n",
    "plt.legend()\n",
    "plt.title('Transaction Notional Value Distribution - oCRV')\n",
    "plt.xlabel('Transaction Notional Value (log $)');"
   ]
  },
  {
   "cell_type": "markdown",
   "metadata": {},
   "source": [
    "### Account Clusters"
   ]
  },
  {
   "cell_type": "code",
   "execution_count": 19,
   "metadata": {},
   "outputs": [
    {
     "data": {
      "text/plain": [
       "164"
      ]
     },
     "execution_count": 19,
     "metadata": {},
     "output_type": "execute_result"
    }
   ],
   "source": [
    "len(txdf.groupby('account'))"
   ]
  },
  {
   "cell_type": "code",
   "execution_count": 20,
   "metadata": {},
   "outputs": [
    {
     "data": {
      "text/html": [
       "<div>\n",
       "<style scoped>\n",
       "    .dataframe tbody tr th:only-of-type {\n",
       "        vertical-align: middle;\n",
       "    }\n",
       "\n",
       "    .dataframe tbody tr th {\n",
       "        vertical-align: top;\n",
       "    }\n",
       "\n",
       "    .dataframe thead th {\n",
       "        text-align: right;\n",
       "    }\n",
       "</style>\n",
       "<table border=\"1\" class=\"dataframe\">\n",
       "  <thead>\n",
       "    <tr style=\"text-align: right;\">\n",
       "      <th></th>\n",
       "      <th>value</th>\n",
       "      <th>account</th>\n",
       "      <th>side</th>\n",
       "      <th>token</th>\n",
       "    </tr>\n",
       "  </thead>\n",
       "  <tbody>\n",
       "    <tr>\n",
       "      <th>0</th>\n",
       "      <td>0.00</td>\n",
       "      <td>5778f2824a114f6115dc74d432685d3336216017</td>\n",
       "      <td>buy</td>\n",
       "      <td>ocDAI</td>\n",
       "    </tr>\n",
       "    <tr>\n",
       "      <th>1</th>\n",
       "      <td>0.00</td>\n",
       "      <td>1460771b713e8e58e350f9d82f7b83acb6b2e75f</td>\n",
       "      <td>buy</td>\n",
       "      <td>ocDAI</td>\n",
       "    </tr>\n",
       "    <tr>\n",
       "      <th>2</th>\n",
       "      <td>0.02</td>\n",
       "      <td>263fc4d9eb6da1ed296ea6d189b41e546a188d8a</td>\n",
       "      <td>buy</td>\n",
       "      <td>ocUSDC</td>\n",
       "    </tr>\n",
       "    <tr>\n",
       "      <th>3</th>\n",
       "      <td>1.59</td>\n",
       "      <td>263fc4d9eb6da1ed296ea6d189b41e546a188d8a</td>\n",
       "      <td>buy</td>\n",
       "      <td>ocDAI</td>\n",
       "    </tr>\n",
       "    <tr>\n",
       "      <th>4</th>\n",
       "      <td>16.31</td>\n",
       "      <td>5b0d9e4099bf629387a842ed6bff4dab70573f31</td>\n",
       "      <td>buy</td>\n",
       "      <td>ocDAI</td>\n",
       "    </tr>\n",
       "  </tbody>\n",
       "</table>\n",
       "</div>"
      ],
      "text/plain": [
       "   value                                   account side   token\n",
       "0   0.00  5778f2824a114f6115dc74d432685d3336216017  buy   ocDAI\n",
       "1   0.00  1460771b713e8e58e350f9d82f7b83acb6b2e75f  buy   ocDAI\n",
       "2   0.02  263fc4d9eb6da1ed296ea6d189b41e546a188d8a  buy  ocUSDC\n",
       "3   1.59  263fc4d9eb6da1ed296ea6d189b41e546a188d8a  buy   ocDAI\n",
       "4  16.31  5b0d9e4099bf629387a842ed6bff4dab70573f31  buy   ocDAI"
      ]
     },
     "execution_count": 20,
     "metadata": {},
     "output_type": "execute_result"
    }
   ],
   "source": [
    "txdf.head()"
   ]
  },
  {
   "cell_type": "code",
   "execution_count": 21,
   "metadata": {},
   "outputs": [
    {
     "name": "stderr",
     "output_type": "stream",
     "text": [
      "<ipython-input-21-cfb3af755f71>:5: SettingWithCopyWarning: \n",
      "A value is trying to be set on a copy of a slice from a DataFrame.\n",
      "Try using .loc[row_indexer,col_indexer] = value instead\n",
      "\n",
      "See the caveats in the documentation: http://pandas.pydata.org/pandas-docs/stable/user_guide/indexing.html#returning-a-view-versus-a-copy\n",
      "  txdf2['token_group'] = s.where(s == 'oETH', 'stablecoin')\n"
     ]
    },
    {
     "data": {
      "text/html": [
       "<div>\n",
       "<style scoped>\n",
       "    .dataframe tbody tr th:only-of-type {\n",
       "        vertical-align: middle;\n",
       "    }\n",
       "\n",
       "    .dataframe tbody tr th {\n",
       "        vertical-align: top;\n",
       "    }\n",
       "\n",
       "    .dataframe thead tr th {\n",
       "        text-align: left;\n",
       "    }\n",
       "\n",
       "    .dataframe thead tr:last-of-type th {\n",
       "        text-align: right;\n",
       "    }\n",
       "</style>\n",
       "<table border=\"1\" class=\"dataframe\">\n",
       "  <thead>\n",
       "    <tr>\n",
       "      <th></th>\n",
       "      <th colspan=\"2\" halign=\"left\">value</th>\n",
       "    </tr>\n",
       "    <tr>\n",
       "      <th>side</th>\n",
       "      <th>buy</th>\n",
       "      <th>sell</th>\n",
       "    </tr>\n",
       "    <tr>\n",
       "      <th>token_group</th>\n",
       "      <th>stablecoin</th>\n",
       "      <th>stablecoin</th>\n",
       "    </tr>\n",
       "    <tr>\n",
       "      <th>account</th>\n",
       "      <th></th>\n",
       "      <th></th>\n",
       "    </tr>\n",
       "  </thead>\n",
       "  <tbody>\n",
       "    <tr>\n",
       "      <th>00000000b1786c9698c160d78232c78d6f6474fe</th>\n",
       "      <td>83.57</td>\n",
       "      <td>0.00</td>\n",
       "    </tr>\n",
       "    <tr>\n",
       "      <th>0006e4548aed4502ec8c844567840ce6ef1013f5</th>\n",
       "      <td>1086.73</td>\n",
       "      <td>0.00</td>\n",
       "    </tr>\n",
       "    <tr>\n",
       "      <th>004afb002e3fb33c833fc16b6b63103bbf97312d</th>\n",
       "      <td>0.00</td>\n",
       "      <td>1738.19</td>\n",
       "    </tr>\n",
       "    <tr>\n",
       "      <th>01da73c4ec1355f953ad0aaca3ef20e342aea92a</th>\n",
       "      <td>0.00</td>\n",
       "      <td>12143.93</td>\n",
       "    </tr>\n",
       "    <tr>\n",
       "      <th>0281cb81079165ad8ba2e4ec6092ae4f42464e6d</th>\n",
       "      <td>0.00</td>\n",
       "      <td>1417.80</td>\n",
       "    </tr>\n",
       "  </tbody>\n",
       "</table>\n",
       "</div>"
      ],
      "text/plain": [
       "                                              value           \n",
       "side                                            buy       sell\n",
       "token_group                              stablecoin stablecoin\n",
       "account                                                       \n",
       "00000000b1786c9698c160d78232c78d6f6474fe      83.57       0.00\n",
       "0006e4548aed4502ec8c844567840ce6ef1013f5    1086.73       0.00\n",
       "004afb002e3fb33c833fc16b6b63103bbf97312d       0.00    1738.19\n",
       "01da73c4ec1355f953ad0aaca3ef20e342aea92a       0.00   12143.93\n",
       "0281cb81079165ad8ba2e4ec6092ae4f42464e6d       0.00    1417.80"
      ]
     },
     "execution_count": 21,
     "metadata": {},
     "output_type": "execute_result"
    }
   ],
   "source": [
    "txdf2 = (txdf[txdf.account != '39246c4f3f6592c974ebc44f80ba6dc69b817c71'] )\n",
    "             # that contract is messing up account-based analsysis, so need to remove it\n",
    "         \n",
    "s = txdf2.token\n",
    "txdf2['token_group'] = s.where(s == 'oETH', 'stablecoin')\n",
    "\n",
    "txdf2 = (txdf2.groupby(['account', 'side', 'token_group']).agg(sum)\n",
    "         .unstack(level=1).unstack(level=1)\n",
    "         .fillna(0)\n",
    "        )\n",
    "txdf2.head()"
   ]
  },
  {
   "cell_type": "code",
   "execution_count": 22,
   "metadata": {},
   "outputs": [
    {
     "data": {
      "text/plain": [
       "0.39842381786339753"
      ]
     },
     "execution_count": 22,
     "metadata": {},
     "output_type": "execute_result"
    }
   ],
   "source": [
    "len(txdf[txdf.account == '39246c4f3f6592c974ebc44f80ba6dc69b817c71'])/len(txdf.account)"
   ]
  },
  {
   "cell_type": "code",
   "execution_count": 23,
   "metadata": {},
   "outputs": [],
   "source": [
    "from sklearn.cluster import KMeans"
   ]
  },
  {
   "cell_type": "code",
   "execution_count": 24,
   "metadata": {},
   "outputs": [
    {
     "data": {
      "text/plain": [
       "Text(0, 0.5, 'WCSS')"
      ]
     },
     "execution_count": 24,
     "metadata": {},
     "output_type": "execute_result"
    },
    {
     "data": {
      "image/png": "[encoded data removed]",
      "text/plain": [
       "<Figure size 432x288 with 1 Axes>"
      ]
     },
     "metadata": {
      "needs_background": "light"
     },
     "output_type": "display_data"
    }
   ],
   "source": [
    "wcss = []\n",
    "for i in range(1, 11):\n",
    "    kmeans = KMeans(n_clusters=i, init='k-means++', max_iter=300, n_init=10, random_state=0)\n",
    "    kmeans.fit(txdf2)\n",
    "    wcss.append(kmeans.inertia_)\n",
    "plt.plot(range(1, 11), wcss)\n",
    "plt.title('Elbow Method')\n",
    "plt.xlabel('Number of clusters')\n",
    "plt.ylabel('WCSS')\n"
   ]
  },
  {
   "cell_type": "code",
   "execution_count": 25,
   "metadata": {},
   "outputs": [
    {
     "data": {
      "text/plain": [
       "KMeans(algorithm='auto', copy_x=True, init='k-means++', max_iter=300,\n",
       "       n_clusters=6, n_init=10, n_jobs=None, precompute_distances='auto',\n",
       "       random_state=0, tol=0.0001, verbose=0)"
      ]
     },
     "execution_count": 25,
     "metadata": {},
     "output_type": "execute_result"
    }
   ],
   "source": [
    "kmeans = KMeans(n_clusters=6, init='k-means++', max_iter=300, n_init=10, random_state=0)\n",
    "kmeans.fit(txdf2)"
   ]
  },
  {
   "cell_type": "code",
   "execution_count": 26,
   "metadata": {},
   "outputs": [
    {
     "data": {
      "text/html": [
       "<div>\n",
       "<style scoped>\n",
       "    .dataframe tbody tr th:only-of-type {\n",
       "        vertical-align: middle;\n",
       "    }\n",
       "\n",
       "    .dataframe tbody tr th {\n",
       "        vertical-align: top;\n",
       "    }\n",
       "\n",
       "    .dataframe thead tr th {\n",
       "        text-align: left;\n",
       "    }\n",
       "\n",
       "    .dataframe thead tr:last-of-type th {\n",
       "        text-align: right;\n",
       "    }\n",
       "</style>\n",
       "<table border=\"1\" class=\"dataframe\">\n",
       "  <thead>\n",
       "    <tr>\n",
       "      <th></th>\n",
       "      <th colspan=\"2\" halign=\"left\">value</th>\n",
       "      <th>proportion</th>\n",
       "      <th>count</th>\n",
       "    </tr>\n",
       "    <tr>\n",
       "      <th>side</th>\n",
       "      <th>buy</th>\n",
       "      <th>sell</th>\n",
       "      <th></th>\n",
       "      <th></th>\n",
       "    </tr>\n",
       "    <tr>\n",
       "      <th>token_group</th>\n",
       "      <th>stablecoin</th>\n",
       "      <th>stablecoin</th>\n",
       "      <th></th>\n",
       "      <th></th>\n",
       "    </tr>\n",
       "    <tr>\n",
       "      <th>cluster</th>\n",
       "      <th></th>\n",
       "      <th></th>\n",
       "      <th></th>\n",
       "      <th></th>\n",
       "    </tr>\n",
       "  </thead>\n",
       "  <tbody>\n",
       "    <tr>\n",
       "      <th>0</th>\n",
       "      <td>1472</td>\n",
       "      <td>2375</td>\n",
       "      <td>0.87</td>\n",
       "      <td>141</td>\n",
       "    </tr>\n",
       "    <tr>\n",
       "      <th>5</th>\n",
       "      <td>52249</td>\n",
       "      <td>31763</td>\n",
       "      <td>0.06</td>\n",
       "      <td>9</td>\n",
       "    </tr>\n",
       "    <tr>\n",
       "      <th>4</th>\n",
       "      <td>3046</td>\n",
       "      <td>85577</td>\n",
       "      <td>0.04</td>\n",
       "      <td>6</td>\n",
       "    </tr>\n",
       "    <tr>\n",
       "      <th>2</th>\n",
       "      <td>180533</td>\n",
       "      <td>24557</td>\n",
       "      <td>0.03</td>\n",
       "      <td>5</td>\n",
       "    </tr>\n",
       "    <tr>\n",
       "      <th>1</th>\n",
       "      <td>506332</td>\n",
       "      <td>603</td>\n",
       "      <td>0.01</td>\n",
       "      <td>1</td>\n",
       "    </tr>\n",
       "    <tr>\n",
       "      <th>3</th>\n",
       "      <td>274387</td>\n",
       "      <td>291187</td>\n",
       "      <td>0.01</td>\n",
       "      <td>1</td>\n",
       "    </tr>\n",
       "  </tbody>\n",
       "</table>\n",
       "</div>"
      ],
      "text/plain": [
       "                 value            proportion count\n",
       "side               buy       sell                 \n",
       "token_group stablecoin stablecoin                 \n",
       "cluster                                           \n",
       "0                 1472       2375       0.87   141\n",
       "5                52249      31763       0.06     9\n",
       "4                 3046      85577       0.04     6\n",
       "2               180533      24557       0.03     5\n",
       "1               506332        603       0.01     1\n",
       "3               274387     291187       0.01     1"
      ]
     },
     "execution_count": 26,
     "metadata": {},
     "output_type": "execute_result"
    }
   ],
   "source": [
    "labels = kmeans.predict(txdf2)\n",
    "\n",
    "counts = np.bincount(labels)\n",
    "props = counts/len(labels)\n",
    "\n",
    "txdf2['cluster'] = labels\n",
    "clusters = (txdf2.groupby('cluster')\n",
    "            .agg('mean').astype('int').round(0)\n",
    "            .assign(proportion = props.round(2), count = counts)\n",
    "            .sort_values(by=['proportion'], ascending = False)\n",
    "           )\n",
    "clusters"
   ]
  },
  {
   "cell_type": "code",
   "execution_count": 27,
   "metadata": {},
   "outputs": [
    {
     "data": {
      "text/plain": [
       "array([[<matplotlib.axes._subplots.AxesSubplot object at 0x12237cc70>]],\n",
       "      dtype=object)"
      ]
     },
     "execution_count": 27,
     "metadata": {},
     "output_type": "execute_result"
    },
    {
     "data": {
      "image/png": "[encoded data removed]",
      "text/plain": [
       "<Figure size 432x288 with 1 Axes>"
      ]
     },
     "metadata": {
      "needs_background": "light"
     },
     "output_type": "display_data"
    }
   ],
   "source": [
    "acct = txdf2[txdf2.cluster == 3].reset_index().account[0]\n",
    "txdf0[txdf0.account == acct].sort_values(by='value', ascending = False).hist()"
   ]
  },
  {
   "cell_type": "code",
   "execution_count": 28,
   "metadata": {},
   "outputs": [
    {
     "data": {
      "text/html": [
       "<div>\n",
       "<style scoped>\n",
       "    .dataframe tbody tr th:only-of-type {\n",
       "        vertical-align: middle;\n",
       "    }\n",
       "\n",
       "    .dataframe tbody tr th {\n",
       "        vertical-align: top;\n",
       "    }\n",
       "\n",
       "    .dataframe thead th {\n",
       "        text-align: right;\n",
       "    }\n",
       "</style>\n",
       "<table border=\"1\" class=\"dataframe\">\n",
       "  <thead>\n",
       "    <tr style=\"text-align: right;\">\n",
       "      <th></th>\n",
       "      <th>tx</th>\n",
       "      <th>minute</th>\n",
       "      <th>value</th>\n",
       "      <th>account</th>\n",
       "      <th>side</th>\n",
       "      <th>type</th>\n",
       "      <th>token</th>\n",
       "    </tr>\n",
       "  </thead>\n",
       "  <tbody>\n",
       "    <tr>\n",
       "      <th>9</th>\n",
       "      <td>6958e6c5b4234ac6b6ccf7b115d7288c76f9d86a645618...</td>\n",
       "      <td>02/12/20 16:27</td>\n",
       "      <td>0.01</td>\n",
       "      <td>97dec872013f6b5fb443861090ad931542878126</td>\n",
       "      <td>buy</td>\n",
       "      <td>put</td>\n",
       "      <td>ocDAI</td>\n",
       "    </tr>\n",
       "    <tr>\n",
       "      <th>39</th>\n",
       "      <td>29c11f3571871c2360237deabf16229cc1576abe643f3a...</td>\n",
       "      <td>02/15/20 19:57</td>\n",
       "      <td>9.93</td>\n",
       "      <td>97dec872013f6b5fb443861090ad931542878126</td>\n",
       "      <td>buy</td>\n",
       "      <td>put</td>\n",
       "      <td>ocUSDC</td>\n",
       "    </tr>\n",
       "    <tr>\n",
       "      <th>349</th>\n",
       "      <td>88077a94f01bcbe99773edfbd7894f72118e36772486e9...</td>\n",
       "      <td>03/04/20 5:17</td>\n",
       "      <td>4.63</td>\n",
       "      <td>97dec872013f6b5fb443861090ad931542878126</td>\n",
       "      <td>buy</td>\n",
       "      <td>put</td>\n",
       "      <td>ocDAI</td>\n",
       "    </tr>\n",
       "    <tr>\n",
       "      <th>359</th>\n",
       "      <td>528bb500fd573085658982049f783a025b664c4db37662...</td>\n",
       "      <td>03/04/20 14:34</td>\n",
       "      <td>113.11</td>\n",
       "      <td>97dec872013f6b5fb443861090ad931542878126</td>\n",
       "      <td>buy</td>\n",
       "      <td>put</td>\n",
       "      <td>ocDAI</td>\n",
       "    </tr>\n",
       "    <tr>\n",
       "      <th>361</th>\n",
       "      <td>9acb8df8a9f6d8884191e1cd6e198b8f9310db3fc7b5d4...</td>\n",
       "      <td>03/04/20 16:08</td>\n",
       "      <td>156.00</td>\n",
       "      <td>97dec872013f6b5fb443861090ad931542878126</td>\n",
       "      <td>buy</td>\n",
       "      <td>put</td>\n",
       "      <td>ocUSDC</td>\n",
       "    </tr>\n",
       "    <tr>\n",
       "      <th>...</th>\n",
       "      <td>...</td>\n",
       "      <td>...</td>\n",
       "      <td>...</td>\n",
       "      <td>...</td>\n",
       "      <td>...</td>\n",
       "      <td>...</td>\n",
       "      <td>...</td>\n",
       "    </tr>\n",
       "    <tr>\n",
       "      <th>2107</th>\n",
       "      <td>60fc054eae44ee6d7de7a770a5817a67acbc5104851957...</td>\n",
       "      <td>04/23/20 16:48</td>\n",
       "      <td>39.41</td>\n",
       "      <td>97dec872013f6b5fb443861090ad931542878126</td>\n",
       "      <td>buy</td>\n",
       "      <td>put</td>\n",
       "      <td>oETH_100_042420</td>\n",
       "    </tr>\n",
       "    <tr>\n",
       "      <th>2171</th>\n",
       "      <td>df56f610f40508640457af604bac2690f4a8405a6cb062...</td>\n",
       "      <td>04/24/20 12:45</td>\n",
       "      <td>9367.80</td>\n",
       "      <td>97dec872013f6b5fb443861090ad931542878126</td>\n",
       "      <td>buy</td>\n",
       "      <td>put</td>\n",
       "      <td>oETH_150_052920</td>\n",
       "    </tr>\n",
       "    <tr>\n",
       "      <th>2180</th>\n",
       "      <td>c17dd24037635ace8030f99914d3d5652b85fca93d3452...</td>\n",
       "      <td>04/24/20 16:09</td>\n",
       "      <td>12327.27</td>\n",
       "      <td>97dec872013f6b5fb443861090ad931542878126</td>\n",
       "      <td>buy</td>\n",
       "      <td>put</td>\n",
       "      <td>oETH_160_050120</td>\n",
       "    </tr>\n",
       "    <tr>\n",
       "      <th>2238</th>\n",
       "      <td>417d900f7285c57bbca83f970b705c9b0249f02df06510...</td>\n",
       "      <td>04/25/20 21:24</td>\n",
       "      <td>3673.54</td>\n",
       "      <td>97dec872013f6b5fb443861090ad931542878126</td>\n",
       "      <td>buy</td>\n",
       "      <td>put</td>\n",
       "      <td>oETH_150_052920</td>\n",
       "    </tr>\n",
       "    <tr>\n",
       "      <th>2370</th>\n",
       "      <td>092d6cf2d5b2a01b92d7dce5ad2d095631f168b19c55d8...</td>\n",
       "      <td>04/30/20 20:23</td>\n",
       "      <td>1481.34</td>\n",
       "      <td>97dec872013f6b5fb443861090ad931542878126</td>\n",
       "      <td>buy</td>\n",
       "      <td>put</td>\n",
       "      <td>oETH_150_052920</td>\n",
       "    </tr>\n",
       "  </tbody>\n",
       "</table>\n",
       "<p>68 rows × 7 columns</p>\n",
       "</div>"
      ],
      "text/plain": [
       "                                                     tx          minute  \\\n",
       "9     6958e6c5b4234ac6b6ccf7b115d7288c76f9d86a645618...  02/12/20 16:27   \n",
       "39    29c11f3571871c2360237deabf16229cc1576abe643f3a...  02/15/20 19:57   \n",
       "349   88077a94f01bcbe99773edfbd7894f72118e36772486e9...   03/04/20 5:17   \n",
       "359   528bb500fd573085658982049f783a025b664c4db37662...  03/04/20 14:34   \n",
       "361   9acb8df8a9f6d8884191e1cd6e198b8f9310db3fc7b5d4...  03/04/20 16:08   \n",
       "...                                                 ...             ...   \n",
       "2107  60fc054eae44ee6d7de7a770a5817a67acbc5104851957...  04/23/20 16:48   \n",
       "2171  df56f610f40508640457af604bac2690f4a8405a6cb062...  04/24/20 12:45   \n",
       "2180  c17dd24037635ace8030f99914d3d5652b85fca93d3452...  04/24/20 16:09   \n",
       "2238  417d900f7285c57bbca83f970b705c9b0249f02df06510...  04/25/20 21:24   \n",
       "2370  092d6cf2d5b2a01b92d7dce5ad2d095631f168b19c55d8...  04/30/20 20:23   \n",
       "\n",
       "         value                                   account side type  \\\n",
       "9         0.01  97dec872013f6b5fb443861090ad931542878126  buy  put   \n",
       "39        9.93  97dec872013f6b5fb443861090ad931542878126  buy  put   \n",
       "349       4.63  97dec872013f6b5fb443861090ad931542878126  buy  put   \n",
       "359     113.11  97dec872013f6b5fb443861090ad931542878126  buy  put   \n",
       "361     156.00  97dec872013f6b5fb443861090ad931542878126  buy  put   \n",
       "...        ...                                       ...  ...  ...   \n",
       "2107     39.41  97dec872013f6b5fb443861090ad931542878126  buy  put   \n",
       "2171   9367.80  97dec872013f6b5fb443861090ad931542878126  buy  put   \n",
       "2180  12327.27  97dec872013f6b5fb443861090ad931542878126  buy  put   \n",
       "2238   3673.54  97dec872013f6b5fb443861090ad931542878126  buy  put   \n",
       "2370   1481.34  97dec872013f6b5fb443861090ad931542878126  buy  put   \n",
       "\n",
       "                token  \n",
       "9               ocDAI  \n",
       "39             ocUSDC  \n",
       "349             ocDAI  \n",
       "359             ocDAI  \n",
       "361            ocUSDC  \n",
       "...               ...  \n",
       "2107  oETH_100_042420  \n",
       "2171  oETH_150_052920  \n",
       "2180  oETH_160_050120  \n",
       "2238  oETH_150_052920  \n",
       "2370  oETH_150_052920  \n",
       "\n",
       "[68 rows x 7 columns]"
      ]
     },
     "execution_count": 28,
     "metadata": {},
     "output_type": "execute_result"
    }
   ],
   "source": [
    "acct2 = txdf2[txdf2.cluster == 1].reset_index().account[0]\n",
    "a = txdf0[txdf0.account == acct2]\n",
    "a"
   ]
  },
  {
   "cell_type": "code",
   "execution_count": 30,
   "metadata": {},
   "outputs": [
    {
     "data": {
      "text/plain": [
       "'c17dd24037635ace8030f99914d3d5652b85fca93d345256de2bfddcdbd8ce9d'"
      ]
     },
     "execution_count": 30,
     "metadata": {},
     "output_type": "execute_result"
    }
   ],
   "source": [
    "a.tx[2180]"
   ]
  },
  {
   "cell_type": "code",
   "execution_count": 31,
   "metadata": {},
   "outputs": [
    {
     "data": {
      "text/plain": [
       "0    0c31b6605686aa26df47eb45af0e4aa6639a5fd6\n",
       "1    1bcfe4f499db23909a5ddc33d6e2d879531176ec\n",
       "2    28595f15c04cf1f4ce978fc77a210dbc30e025bb\n",
       "3    505846a0a89dd26fa5cd0677fd5406039c218620\n",
       "4    f623c8bc4c9b6279ebec8777354052cb028304b1\n",
       "Name: account, dtype: object"
      ]
     },
     "execution_count": 31,
     "metadata": {},
     "output_type": "execute_result"
    }
   ],
   "source": [
    "acct3 = txdf2[txdf2.cluster == 2].reset_index().account\n",
    "acct3"
   ]
  },
  {
   "cell_type": "code",
   "execution_count": 32,
   "metadata": {},
   "outputs": [
    {
     "data": {
      "text/plain": [
       "'22132a2347b5fa73ca578a085a840bd4ac0235e2c0c9418649656d97f6b81de1'"
      ]
     },
     "execution_count": 32,
     "metadata": {},
     "output_type": "execute_result"
    }
   ],
   "source": [
    "acct3 = txdf2[txdf2.cluster == 2].reset_index().account[1]\n",
    "txdf0[txdf0.account == acct3].tx[2361]"
   ]
  },
  {
   "cell_type": "code",
   "execution_count": 33,
   "metadata": {},
   "outputs": [
    {
     "data": {
      "text/plain": [
       "MultiIndex([(  'value',  'buy', 'stablecoin'),\n",
       "            (  'value', 'sell', 'stablecoin'),\n",
       "            ('cluster',     '',           '')],\n",
       "           names=[None, 'side', 'token_group'])"
      ]
     },
     "execution_count": 33,
     "metadata": {},
     "output_type": "execute_result"
    }
   ],
   "source": [
    "txdf2.columns"
   ]
  },
  {
   "cell_type": "code",
   "execution_count": 34,
   "metadata": {},
   "outputs": [
    {
     "ename": "KeyError",
     "evalue": "('value', 'buy', 'oETH')",
     "output_type": "error",
     "traceback": [
      "\u001b[0;31m-----------------------------------------------------------------------\u001b[0m",
      "\u001b[0;31mKeyError\u001b[0m                              Traceback (most recent call last)",
      "\u001b[0;32m/Library/Frameworks/Python.framework/Versions/3.8/lib/python3.8/site-packages/pandas/core/indexes/base.py\u001b[0m in \u001b[0;36mget_loc\u001b[0;34m(self, key, method, tolerance)\u001b[0m\n\u001b[1;32m   2896\u001b[0m             \u001b[0;32mtry\u001b[0m\u001b[0;34m:\u001b[0m\u001b[0;34m\u001b[0m\u001b[0;34m\u001b[0m\u001b[0m\n\u001b[0;32m-> 2897\u001b[0;31m                 \u001b[0;32mreturn\u001b[0m \u001b[0mself\u001b[0m\u001b[0;34m.\u001b[0m\u001b[0m_engine\u001b[0m\u001b[0;34m.\u001b[0m\u001b[0mget_loc\u001b[0m\u001b[0;34m(\u001b[0m\u001b[0mkey\u001b[0m\u001b[0;34m)\u001b[0m\u001b[0;34m\u001b[0m\u001b[0;34m\u001b[0m\u001b[0m\n\u001b[0m\u001b[1;32m   2898\u001b[0m             \u001b[0;32mexcept\u001b[0m \u001b[0mKeyError\u001b[0m\u001b[0;34m:\u001b[0m\u001b[0;34m\u001b[0m\u001b[0;34m\u001b[0m\u001b[0m\n",
      "\u001b[0;32mpandas/_libs/index.pyx\u001b[0m in \u001b[0;36mpandas._libs.index.IndexEngine.get_loc\u001b[0;34m()\u001b[0m\n",
      "\u001b[0;32mpandas/_libs/index.pyx\u001b[0m in \u001b[0;36mpandas._libs.index.IndexEngine.get_loc\u001b[0;34m()\u001b[0m\n",
      "\u001b[0;32mpandas/_libs/hashtable_class_helper.pxi\u001b[0m in \u001b[0;36mpandas._libs.hashtable.PyObjectHashTable.get_item\u001b[0;34m()\u001b[0m\n",
      "\u001b[0;32mpandas/_libs/hashtable_class_helper.pxi\u001b[0m in \u001b[0;36mpandas._libs.hashtable.PyObjectHashTable.get_item\u001b[0;34m()\u001b[0m\n",
      "\u001b[0;31mKeyError\u001b[0m: 'oETH'",
      "\nDuring handling of the above exception, another exception occurred:\n",
      "\u001b[0;31mKeyError\u001b[0m                              Traceback (most recent call last)",
      "\u001b[0;32mpandas/_libs/index.pyx\u001b[0m in \u001b[0;36mpandas._libs.index.BaseMultiIndexCodesEngine.get_loc\u001b[0;34m()\u001b[0m\n",
      "\u001b[0;32m/Library/Frameworks/Python.framework/Versions/3.8/lib/python3.8/site-packages/pandas/core/indexes/base.py\u001b[0m in \u001b[0;36mget_loc\u001b[0;34m(self, key, method, tolerance)\u001b[0m\n\u001b[1;32m   2898\u001b[0m             \u001b[0;32mexcept\u001b[0m \u001b[0mKeyError\u001b[0m\u001b[0;34m:\u001b[0m\u001b[0;34m\u001b[0m\u001b[0;34m\u001b[0m\u001b[0m\n\u001b[0;32m-> 2899\u001b[0;31m                 \u001b[0;32mreturn\u001b[0m \u001b[0mself\u001b[0m\u001b[0;34m.\u001b[0m\u001b[0m_engine\u001b[0m\u001b[0;34m.\u001b[0m\u001b[0mget_loc\u001b[0m\u001b[0;34m(\u001b[0m\u001b[0mself\u001b[0m\u001b[0;34m.\u001b[0m\u001b[0m_maybe_cast_indexer\u001b[0m\u001b[0;34m(\u001b[0m\u001b[0mkey\u001b[0m\u001b[0;34m)\u001b[0m\u001b[0;34m)\u001b[0m\u001b[0;34m\u001b[0m\u001b[0;34m\u001b[0m\u001b[0m\n\u001b[0m\u001b[1;32m   2900\u001b[0m         \u001b[0mindexer\u001b[0m \u001b[0;34m=\u001b[0m \u001b[0mself\u001b[0m\u001b[0;34m.\u001b[0m\u001b[0mget_indexer\u001b[0m\u001b[0;34m(\u001b[0m\u001b[0;34m[\u001b[0m\u001b[0mkey\u001b[0m\u001b[0;34m]\u001b[0m\u001b[0;34m,\u001b[0m \u001b[0mmethod\u001b[0m\u001b[0;34m=\u001b[0m\u001b[0mmethod\u001b[0m\u001b[0;34m,\u001b[0m \u001b[0mtolerance\u001b[0m\u001b[0;34m=\u001b[0m\u001b[0mtolerance\u001b[0m\u001b[0;34m)\u001b[0m\u001b[0;34m\u001b[0m\u001b[0;34m\u001b[0m\u001b[0m\n",
      "\u001b[0;32mpandas/_libs/index.pyx\u001b[0m in \u001b[0;36mpandas._libs.index.IndexEngine.get_loc\u001b[0;34m()\u001b[0m\n",
      "\u001b[0;32mpandas/_libs/index.pyx\u001b[0m in \u001b[0;36mpandas._libs.index.IndexEngine.get_loc\u001b[0;34m()\u001b[0m\n",
      "\u001b[0;32mpandas/_libs/hashtable_class_helper.pxi\u001b[0m in \u001b[0;36mpandas._libs.hashtable.PyObjectHashTable.get_item\u001b[0;34m()\u001b[0m\n",
      "\u001b[0;32mpandas/_libs/hashtable_class_helper.pxi\u001b[0m in \u001b[0;36mpandas._libs.hashtable.PyObjectHashTable.get_item\u001b[0;34m()\u001b[0m\n",
      "\u001b[0;31mKeyError\u001b[0m: 'oETH'",
      "\nDuring handling of the above exception, another exception occurred:\n",
      "\u001b[0;31mKeyError\u001b[0m                              Traceback (most recent call last)",
      "\u001b[0;32m<ipython-input-34-9b5512d7760b>\u001b[0m in \u001b[0;36m<module>\u001b[0;34m\u001b[0m\n\u001b[1;32m      1\u001b[0m \u001b[0mtxdf3\u001b[0m \u001b[0;34m=\u001b[0m \u001b[0mtxdf2\u001b[0m\u001b[0;34m\u001b[0m\u001b[0;34m\u001b[0m\u001b[0m\n\u001b[0;32m----> 2\u001b[0;31m \u001b[0mtxdf3\u001b[0m\u001b[0;34m[\u001b[0m\u001b[0;34m'oETH'\u001b[0m\u001b[0;34m]\u001b[0m \u001b[0;34m=\u001b[0m \u001b[0mtxdf2\u001b[0m\u001b[0;34m[\u001b[0m\u001b[0;34m'value'\u001b[0m\u001b[0;34m,\u001b[0m\u001b[0;34m'buy'\u001b[0m\u001b[0;34m,\u001b[0m \u001b[0;34m'oETH'\u001b[0m\u001b[0;34m]\u001b[0m \u001b[0;34m+\u001b[0m \u001b[0mtxdf2\u001b[0m\u001b[0;34m[\u001b[0m\u001b[0;34m'value'\u001b[0m\u001b[0;34m,\u001b[0m\u001b[0;34m'sell'\u001b[0m\u001b[0;34m,\u001b[0m \u001b[0;34m'oETH'\u001b[0m\u001b[0;34m]\u001b[0m\u001b[0;34m\u001b[0m\u001b[0;34m\u001b[0m\u001b[0m\n\u001b[0m\u001b[1;32m      3\u001b[0m \u001b[0mtxdf3\u001b[0m\u001b[0;34m[\u001b[0m\u001b[0;34m'stablecoin'\u001b[0m\u001b[0;34m]\u001b[0m \u001b[0;34m=\u001b[0m \u001b[0mtxdf2\u001b[0m\u001b[0;34m[\u001b[0m\u001b[0;34m'value'\u001b[0m\u001b[0;34m,\u001b[0m \u001b[0;34m'buy'\u001b[0m\u001b[0;34m,\u001b[0m \u001b[0;34m'stablecoin'\u001b[0m\u001b[0;34m]\u001b[0m \u001b[0;34m+\u001b[0m \u001b[0mtxdf2\u001b[0m\u001b[0;34m[\u001b[0m\u001b[0;34m'value'\u001b[0m\u001b[0;34m,\u001b[0m\u001b[0;34m'sell'\u001b[0m\u001b[0;34m,\u001b[0m \u001b[0;34m'stablecoin'\u001b[0m\u001b[0;34m]\u001b[0m\u001b[0;34m\u001b[0m\u001b[0;34m\u001b[0m\u001b[0m\n\u001b[1;32m      4\u001b[0m \u001b[0mtxdf3\u001b[0m \u001b[0;34m=\u001b[0m \u001b[0mtxdf3\u001b[0m\u001b[0;34m.\u001b[0m\u001b[0mdrop\u001b[0m\u001b[0;34m(\u001b[0m\u001b[0mcolumns\u001b[0m \u001b[0;34m=\u001b[0m \u001b[0;34m[\u001b[0m\u001b[0;34m'value'\u001b[0m\u001b[0;34m,\u001b[0m \u001b[0;34m'cluster'\u001b[0m\u001b[0;34m]\u001b[0m\u001b[0;34m)\u001b[0m\u001b[0;34m\u001b[0m\u001b[0;34m\u001b[0m\u001b[0m\n",
      "\u001b[0;32m/Library/Frameworks/Python.framework/Versions/3.8/lib/python3.8/site-packages/pandas/core/frame.py\u001b[0m in \u001b[0;36m__getitem__\u001b[0;34m(self, key)\u001b[0m\n\u001b[1;32m   2992\u001b[0m         \u001b[0;32mif\u001b[0m \u001b[0mis_single_key\u001b[0m\u001b[0;34m:\u001b[0m\u001b[0;34m\u001b[0m\u001b[0;34m\u001b[0m\u001b[0m\n\u001b[1;32m   2993\u001b[0m             \u001b[0;32mif\u001b[0m \u001b[0mself\u001b[0m\u001b[0;34m.\u001b[0m\u001b[0mcolumns\u001b[0m\u001b[0;34m.\u001b[0m\u001b[0mnlevels\u001b[0m \u001b[0;34m>\u001b[0m \u001b[0;36m1\u001b[0m\u001b[0;34m:\u001b[0m\u001b[0;34m\u001b[0m\u001b[0;34m\u001b[0m\u001b[0m\n\u001b[0;32m-> 2994\u001b[0;31m                 \u001b[0;32mreturn\u001b[0m \u001b[0mself\u001b[0m\u001b[0;34m.\u001b[0m\u001b[0m_getitem_multilevel\u001b[0m\u001b[0;34m(\u001b[0m\u001b[0mkey\u001b[0m\u001b[0;34m)\u001b[0m\u001b[0;34m\u001b[0m\u001b[0;34m\u001b[0m\u001b[0m\n\u001b[0m\u001b[1;32m   2995\u001b[0m             \u001b[0mindexer\u001b[0m \u001b[0;34m=\u001b[0m \u001b[0mself\u001b[0m\u001b[0;34m.\u001b[0m\u001b[0mcolumns\u001b[0m\u001b[0;34m.\u001b[0m\u001b[0mget_loc\u001b[0m\u001b[0;34m(\u001b[0m\u001b[0mkey\u001b[0m\u001b[0;34m)\u001b[0m\u001b[0;34m\u001b[0m\u001b[0;34m\u001b[0m\u001b[0m\n\u001b[1;32m   2996\u001b[0m             \u001b[0;32mif\u001b[0m \u001b[0mis_integer\u001b[0m\u001b[0;34m(\u001b[0m\u001b[0mindexer\u001b[0m\u001b[0;34m)\u001b[0m\u001b[0;34m:\u001b[0m\u001b[0;34m\u001b[0m\u001b[0;34m\u001b[0m\u001b[0m\n",
      "\u001b[0;32m/Library/Frameworks/Python.framework/Versions/3.8/lib/python3.8/site-packages/pandas/core/frame.py\u001b[0m in \u001b[0;36m_getitem_multilevel\u001b[0;34m(self, key)\u001b[0m\n\u001b[1;32m   3041\u001b[0m \u001b[0;34m\u001b[0m\u001b[0m\n\u001b[1;32m   3042\u001b[0m     \u001b[0;32mdef\u001b[0m \u001b[0m_getitem_multilevel\u001b[0m\u001b[0;34m(\u001b[0m\u001b[0mself\u001b[0m\u001b[0;34m,\u001b[0m \u001b[0mkey\u001b[0m\u001b[0;34m)\u001b[0m\u001b[0;34m:\u001b[0m\u001b[0;34m\u001b[0m\u001b[0;34m\u001b[0m\u001b[0m\n\u001b[0;32m-> 3043\u001b[0;31m         \u001b[0mloc\u001b[0m \u001b[0;34m=\u001b[0m \u001b[0mself\u001b[0m\u001b[0;34m.\u001b[0m\u001b[0mcolumns\u001b[0m\u001b[0;34m.\u001b[0m\u001b[0mget_loc\u001b[0m\u001b[0;34m(\u001b[0m\u001b[0mkey\u001b[0m\u001b[0;34m)\u001b[0m\u001b[0;34m\u001b[0m\u001b[0;34m\u001b[0m\u001b[0m\n\u001b[0m\u001b[1;32m   3044\u001b[0m         \u001b[0;32mif\u001b[0m \u001b[0misinstance\u001b[0m\u001b[0;34m(\u001b[0m\u001b[0mloc\u001b[0m\u001b[0;34m,\u001b[0m \u001b[0;34m(\u001b[0m\u001b[0mslice\u001b[0m\u001b[0;34m,\u001b[0m \u001b[0mSeries\u001b[0m\u001b[0;34m,\u001b[0m \u001b[0mnp\u001b[0m\u001b[0;34m.\u001b[0m\u001b[0mndarray\u001b[0m\u001b[0;34m,\u001b[0m \u001b[0mIndex\u001b[0m\u001b[0;34m)\u001b[0m\u001b[0;34m)\u001b[0m\u001b[0;34m:\u001b[0m\u001b[0;34m\u001b[0m\u001b[0;34m\u001b[0m\u001b[0m\n\u001b[1;32m   3045\u001b[0m             \u001b[0mnew_columns\u001b[0m \u001b[0;34m=\u001b[0m \u001b[0mself\u001b[0m\u001b[0;34m.\u001b[0m\u001b[0mcolumns\u001b[0m\u001b[0;34m[\u001b[0m\u001b[0mloc\u001b[0m\u001b[0;34m]\u001b[0m\u001b[0;34m\u001b[0m\u001b[0;34m\u001b[0m\u001b[0m\n",
      "\u001b[0;32m/Library/Frameworks/Python.framework/Versions/3.8/lib/python3.8/site-packages/pandas/core/indexes/multi.py\u001b[0m in \u001b[0;36mget_loc\u001b[0;34m(self, key, method)\u001b[0m\n\u001b[1;32m   2683\u001b[0m \u001b[0;34m\u001b[0m\u001b[0m\n\u001b[1;32m   2684\u001b[0m         \u001b[0;32mif\u001b[0m \u001b[0mkeylen\u001b[0m \u001b[0;34m==\u001b[0m \u001b[0mself\u001b[0m\u001b[0;34m.\u001b[0m\u001b[0mnlevels\u001b[0m \u001b[0;32mand\u001b[0m \u001b[0mself\u001b[0m\u001b[0;34m.\u001b[0m\u001b[0mis_unique\u001b[0m\u001b[0;34m:\u001b[0m\u001b[0;34m\u001b[0m\u001b[0;34m\u001b[0m\u001b[0m\n\u001b[0;32m-> 2685\u001b[0;31m             \u001b[0;32mreturn\u001b[0m \u001b[0mself\u001b[0m\u001b[0;34m.\u001b[0m\u001b[0m_engine\u001b[0m\u001b[0;34m.\u001b[0m\u001b[0mget_loc\u001b[0m\u001b[0;34m(\u001b[0m\u001b[0mkey\u001b[0m\u001b[0;34m)\u001b[0m\u001b[0;34m\u001b[0m\u001b[0;34m\u001b[0m\u001b[0m\n\u001b[0m\u001b[1;32m   2686\u001b[0m \u001b[0;34m\u001b[0m\u001b[0m\n\u001b[1;32m   2687\u001b[0m         \u001b[0;31m# -- partial selection or non-unique index\u001b[0m\u001b[0;34m\u001b[0m\u001b[0;34m\u001b[0m\u001b[0;34m\u001b[0m\u001b[0m\n",
      "\u001b[0;32mpandas/_libs/index.pyx\u001b[0m in \u001b[0;36mpandas._libs.index.BaseMultiIndexCodesEngine.get_loc\u001b[0;34m()\u001b[0m\n",
      "\u001b[0;31mKeyError\u001b[0m: ('value', 'buy', 'oETH')"
     ]
    }
   ],
   "source": [
    "txdf3 = txdf2\n",
    "txdf3['oETH'] = txdf2['value','buy', 'oETH'] + txdf2['value','sell', 'oETH']\n",
    "txdf3['stablecoin'] = txdf2['value', 'buy', 'stablecoin'] + txdf2['value','sell', 'stablecoin']\n",
    "txdf3 = txdf3.drop(columns = ['value', 'cluster'])"
   ]
  },
  {
   "cell_type": "code",
   "execution_count": 35,
   "metadata": {},
   "outputs": [
    {
     "data": {
      "text/html": [
       "<div>\n",
       "<style scoped>\n",
       "    .dataframe tbody tr th:only-of-type {\n",
       "        vertical-align: middle;\n",
       "    }\n",
       "\n",
       "    .dataframe tbody tr th {\n",
       "        vertical-align: top;\n",
       "    }\n",
       "\n",
       "    .dataframe thead tr th {\n",
       "        text-align: left;\n",
       "    }\n",
       "\n",
       "    .dataframe thead tr:last-of-type th {\n",
       "        text-align: right;\n",
       "    }\n",
       "</style>\n",
       "<table border=\"1\" class=\"dataframe\">\n",
       "  <thead>\n",
       "    <tr>\n",
       "      <th></th>\n",
       "      <th colspan=\"2\" halign=\"left\">value</th>\n",
       "      <th>cluster</th>\n",
       "    </tr>\n",
       "    <tr>\n",
       "      <th>side</th>\n",
       "      <th>buy</th>\n",
       "      <th>sell</th>\n",
       "      <th></th>\n",
       "    </tr>\n",
       "    <tr>\n",
       "      <th>token_group</th>\n",
       "      <th>stablecoin</th>\n",
       "      <th>stablecoin</th>\n",
       "      <th></th>\n",
       "    </tr>\n",
       "    <tr>\n",
       "      <th>account</th>\n",
       "      <th></th>\n",
       "      <th></th>\n",
       "      <th></th>\n",
       "    </tr>\n",
       "  </thead>\n",
       "  <tbody>\n",
       "    <tr>\n",
       "      <th>00000000b1786c9698c160d78232c78d6f6474fe</th>\n",
       "      <td>83.57</td>\n",
       "      <td>0.00</td>\n",
       "      <td>0</td>\n",
       "    </tr>\n",
       "    <tr>\n",
       "      <th>0006e4548aed4502ec8c844567840ce6ef1013f5</th>\n",
       "      <td>1086.73</td>\n",
       "      <td>0.00</td>\n",
       "      <td>0</td>\n",
       "    </tr>\n",
       "    <tr>\n",
       "      <th>004afb002e3fb33c833fc16b6b63103bbf97312d</th>\n",
       "      <td>0.00</td>\n",
       "      <td>1738.19</td>\n",
       "      <td>0</td>\n",
       "    </tr>\n",
       "    <tr>\n",
       "      <th>01da73c4ec1355f953ad0aaca3ef20e342aea92a</th>\n",
       "      <td>0.00</td>\n",
       "      <td>12143.93</td>\n",
       "      <td>0</td>\n",
       "    </tr>\n",
       "    <tr>\n",
       "      <th>0281cb81079165ad8ba2e4ec6092ae4f42464e6d</th>\n",
       "      <td>0.00</td>\n",
       "      <td>1417.80</td>\n",
       "      <td>0</td>\n",
       "    </tr>\n",
       "  </tbody>\n",
       "</table>\n",
       "</div>"
      ],
      "text/plain": [
       "                                              value            cluster\n",
       "side                                            buy       sell        \n",
       "token_group                              stablecoin stablecoin        \n",
       "account                                                               \n",
       "00000000b1786c9698c160d78232c78d6f6474fe      83.57       0.00       0\n",
       "0006e4548aed4502ec8c844567840ce6ef1013f5    1086.73       0.00       0\n",
       "004afb002e3fb33c833fc16b6b63103bbf97312d       0.00    1738.19       0\n",
       "01da73c4ec1355f953ad0aaca3ef20e342aea92a       0.00   12143.93       0\n",
       "0281cb81079165ad8ba2e4ec6092ae4f42464e6d       0.00    1417.80       0"
      ]
     },
     "execution_count": 35,
     "metadata": {},
     "output_type": "execute_result"
    }
   ],
   "source": [
    "txdf3.head()"
   ]
  },
  {
   "cell_type": "code",
   "execution_count": 36,
   "metadata": {},
   "outputs": [
    {
     "data": {
      "text/plain": [
       "Text(0, 0.5, 'WCSS')"
      ]
     },
     "execution_count": 36,
     "metadata": {},
     "output_type": "execute_result"
    },
    {
     "data": {
      "image/png": "[encoded data removed]",
      "text/plain": [
       "<Figure size 432x288 with 1 Axes>"
      ]
     },
     "metadata": {
      "needs_background": "light"
     },
     "output_type": "display_data"
    }
   ],
   "source": [
    "wcss = []\n",
    "for i in range(1, 11):\n",
    "    kmeans = KMeans(n_clusters=i, init='k-means++', max_iter=300, n_init=10, random_state=0)\n",
    "    kmeans.fit(txdf3)\n",
    "    wcss.append(kmeans.inertia_)\n",
    "plt.plot(range(1, 11), wcss)\n",
    "plt.title('Elbow Method')\n",
    "plt.xlabel('Number of clusters')\n",
    "plt.ylabel('WCSS')\n"
   ]
  },
  {
   "cell_type": "code",
   "execution_count": 37,
   "metadata": {},
   "outputs": [
    {
     "data": {
      "text/plain": [
       "KMeans(algorithm='auto', copy_x=True, init='k-means++', max_iter=300,\n",
       "       n_clusters=4, n_init=10, n_jobs=None, precompute_distances='auto',\n",
       "       random_state=0, tol=0.0001, verbose=0)"
      ]
     },
     "execution_count": 37,
     "metadata": {},
     "output_type": "execute_result"
    }
   ],
   "source": [
    "kmeans = KMeans(n_clusters=4, init='k-means++', max_iter=300, n_init=10, random_state=0)\n",
    "kmeans.fit(txdf3)"
   ]
  },
  {
   "cell_type": "code",
   "execution_count": 38,
   "metadata": {},
   "outputs": [
    {
     "data": {
      "text/html": [
       "<div>\n",
       "<style scoped>\n",
       "    .dataframe tbody tr th:only-of-type {\n",
       "        vertical-align: middle;\n",
       "    }\n",
       "\n",
       "    .dataframe tbody tr th {\n",
       "        vertical-align: top;\n",
       "    }\n",
       "\n",
       "    .dataframe thead tr th {\n",
       "        text-align: left;\n",
       "    }\n",
       "\n",
       "    .dataframe thead tr:last-of-type th {\n",
       "        text-align: right;\n",
       "    }\n",
       "</style>\n",
       "<table border=\"1\" class=\"dataframe\">\n",
       "  <thead>\n",
       "    <tr>\n",
       "      <th></th>\n",
       "      <th colspan=\"2\" halign=\"left\">value</th>\n",
       "      <th>proportion</th>\n",
       "      <th>count</th>\n",
       "    </tr>\n",
       "    <tr>\n",
       "      <th>side</th>\n",
       "      <th>buy</th>\n",
       "      <th>sell</th>\n",
       "      <th></th>\n",
       "      <th></th>\n",
       "    </tr>\n",
       "    <tr>\n",
       "      <th>token_group</th>\n",
       "      <th>stablecoin</th>\n",
       "      <th>stablecoin</th>\n",
       "      <th></th>\n",
       "      <th></th>\n",
       "    </tr>\n",
       "    <tr>\n",
       "      <th>cluster</th>\n",
       "      <th></th>\n",
       "      <th></th>\n",
       "      <th></th>\n",
       "      <th></th>\n",
       "    </tr>\n",
       "  </thead>\n",
       "  <tbody>\n",
       "    <tr>\n",
       "      <th>0</th>\n",
       "      <td>3248</td>\n",
       "      <td>7095</td>\n",
       "      <td>0.94</td>\n",
       "      <td>154</td>\n",
       "    </tr>\n",
       "    <tr>\n",
       "      <th>2</th>\n",
       "      <td>156921</td>\n",
       "      <td>23467</td>\n",
       "      <td>0.04</td>\n",
       "      <td>7</td>\n",
       "    </tr>\n",
       "    <tr>\n",
       "      <th>1</th>\n",
       "      <td>506332</td>\n",
       "      <td>603</td>\n",
       "      <td>0.01</td>\n",
       "      <td>1</td>\n",
       "    </tr>\n",
       "    <tr>\n",
       "      <th>3</th>\n",
       "      <td>274387</td>\n",
       "      <td>291187</td>\n",
       "      <td>0.01</td>\n",
       "      <td>1</td>\n",
       "    </tr>\n",
       "  </tbody>\n",
       "</table>\n",
       "</div>"
      ],
      "text/plain": [
       "                 value            proportion count\n",
       "side               buy       sell                 \n",
       "token_group stablecoin stablecoin                 \n",
       "cluster                                           \n",
       "0                 3248       7095       0.94   154\n",
       "2               156921      23467       0.04     7\n",
       "1               506332        603       0.01     1\n",
       "3               274387     291187       0.01     1"
      ]
     },
     "execution_count": 38,
     "metadata": {},
     "output_type": "execute_result"
    }
   ],
   "source": [
    "labels = kmeans.predict(txdf3)\n",
    "\n",
    "counts = np.bincount(labels)\n",
    "props = counts/len(labels)\n",
    "\n",
    "txdf3['cluster'] = labels\n",
    "clusters = (txdf3.groupby('cluster')\n",
    "            .agg('mean').astype('int').round(0)\n",
    "            .assign(proportion = props.round(2), count = counts)\n",
    "            .sort_values(by=['proportion'], ascending = False)\n",
    "           )\n",
    "clusters"
   ]
  },
  {
   "cell_type": "code",
   "execution_count": 39,
   "metadata": {},
   "outputs": [
    {
     "ename": "KeyError",
     "evalue": "'oETH'",
     "output_type": "error",
     "traceback": [
      "\u001b[0;31m-----------------------------------------------------------------------\u001b[0m",
      "\u001b[0;31mKeyError\u001b[0m                              Traceback (most recent call last)",
      "\u001b[0;32m/Library/Frameworks/Python.framework/Versions/3.8/lib/python3.8/site-packages/pandas/core/indexes/base.py\u001b[0m in \u001b[0;36mget_loc\u001b[0;34m(self, key, method, tolerance)\u001b[0m\n\u001b[1;32m   2896\u001b[0m             \u001b[0;32mtry\u001b[0m\u001b[0;34m:\u001b[0m\u001b[0;34m\u001b[0m\u001b[0;34m\u001b[0m\u001b[0m\n\u001b[0;32m-> 2897\u001b[0;31m                 \u001b[0;32mreturn\u001b[0m \u001b[0mself\u001b[0m\u001b[0;34m.\u001b[0m\u001b[0m_engine\u001b[0m\u001b[0;34m.\u001b[0m\u001b[0mget_loc\u001b[0m\u001b[0;34m(\u001b[0m\u001b[0mkey\u001b[0m\u001b[0;34m)\u001b[0m\u001b[0;34m\u001b[0m\u001b[0;34m\u001b[0m\u001b[0m\n\u001b[0m\u001b[1;32m   2898\u001b[0m             \u001b[0;32mexcept\u001b[0m \u001b[0mKeyError\u001b[0m\u001b[0;34m:\u001b[0m\u001b[0;34m\u001b[0m\u001b[0;34m\u001b[0m\u001b[0m\n",
      "\u001b[0;32mpandas/_libs/index.pyx\u001b[0m in \u001b[0;36mpandas._libs.index.IndexEngine.get_loc\u001b[0;34m()\u001b[0m\n",
      "\u001b[0;32mpandas/_libs/index.pyx\u001b[0m in \u001b[0;36mpandas._libs.index.IndexEngine.get_loc\u001b[0;34m()\u001b[0m\n",
      "\u001b[0;32mpandas/_libs/hashtable_class_helper.pxi\u001b[0m in \u001b[0;36mpandas._libs.hashtable.PyObjectHashTable.get_item\u001b[0;34m()\u001b[0m\n",
      "\u001b[0;32mpandas/_libs/hashtable_class_helper.pxi\u001b[0m in \u001b[0;36mpandas._libs.hashtable.PyObjectHashTable.get_item\u001b[0;34m()\u001b[0m\n",
      "\u001b[0;31mKeyError\u001b[0m: 'oETH'",
      "\nDuring handling of the above exception, another exception occurred:\n",
      "\u001b[0;31mKeyError\u001b[0m                              Traceback (most recent call last)",
      "\u001b[0;32m<ipython-input-39-0cc8de6f5a80>\u001b[0m in \u001b[0;36m<module>\u001b[0;34m\u001b[0m\n\u001b[0;32m----> 1\u001b[0;31m \u001b[0mx\u001b[0m \u001b[0;34m=\u001b[0m \u001b[0mtxdf3\u001b[0m\u001b[0;34m[\u001b[0m\u001b[0;34m'oETH'\u001b[0m\u001b[0;34m]\u001b[0m\u001b[0;34m\u001b[0m\u001b[0;34m\u001b[0m\u001b[0m\n\u001b[0m\u001b[1;32m      2\u001b[0m \u001b[0my\u001b[0m \u001b[0;34m=\u001b[0m \u001b[0mtxdf3\u001b[0m\u001b[0;34m[\u001b[0m\u001b[0;34m'stablecoin'\u001b[0m\u001b[0;34m]\u001b[0m\u001b[0;34m\u001b[0m\u001b[0;34m\u001b[0m\u001b[0m\n\u001b[1;32m      3\u001b[0m \u001b[0mcolormap\u001b[0m \u001b[0;34m=\u001b[0m \u001b[0mnp\u001b[0m\u001b[0;34m.\u001b[0m\u001b[0marray\u001b[0m\u001b[0;34m(\u001b[0m\u001b[0;34m[\u001b[0m\u001b[0;34m'r'\u001b[0m\u001b[0;34m,\u001b[0m \u001b[0;34m'g'\u001b[0m\u001b[0;34m,\u001b[0m \u001b[0;34m'b'\u001b[0m\u001b[0;34m,\u001b[0m \u001b[0;34m'k'\u001b[0m\u001b[0;34m]\u001b[0m\u001b[0;34m)\u001b[0m\u001b[0;34m\u001b[0m\u001b[0;34m\u001b[0m\u001b[0m\n\u001b[1;32m      4\u001b[0m \u001b[0;34m\u001b[0m\u001b[0m\n\u001b[1;32m      5\u001b[0m \u001b[0mplt\u001b[0m\u001b[0;34m.\u001b[0m\u001b[0mscatter\u001b[0m\u001b[0;34m(\u001b[0m\u001b[0mx\u001b[0m\u001b[0;34m,\u001b[0m \u001b[0my\u001b[0m\u001b[0;34m,\u001b[0m \u001b[0mc\u001b[0m \u001b[0;34m=\u001b[0m \u001b[0mcolormap\u001b[0m\u001b[0;34m[\u001b[0m\u001b[0mtxdf3\u001b[0m\u001b[0;34m.\u001b[0m\u001b[0mcluster\u001b[0m\u001b[0;34m]\u001b[0m\u001b[0;34m,\u001b[0m \u001b[0malpha\u001b[0m \u001b[0;34m=\u001b[0m \u001b[0;36m0.75\u001b[0m\u001b[0;34m)\u001b[0m\u001b[0;34m\u001b[0m\u001b[0;34m\u001b[0m\u001b[0m\n",
      "\u001b[0;32m/Library/Frameworks/Python.framework/Versions/3.8/lib/python3.8/site-packages/pandas/core/frame.py\u001b[0m in \u001b[0;36m__getitem__\u001b[0;34m(self, key)\u001b[0m\n\u001b[1;32m   2992\u001b[0m         \u001b[0;32mif\u001b[0m \u001b[0mis_single_key\u001b[0m\u001b[0;34m:\u001b[0m\u001b[0;34m\u001b[0m\u001b[0;34m\u001b[0m\u001b[0m\n\u001b[1;32m   2993\u001b[0m             \u001b[0;32mif\u001b[0m \u001b[0mself\u001b[0m\u001b[0;34m.\u001b[0m\u001b[0mcolumns\u001b[0m\u001b[0;34m.\u001b[0m\u001b[0mnlevels\u001b[0m \u001b[0;34m>\u001b[0m \u001b[0;36m1\u001b[0m\u001b[0;34m:\u001b[0m\u001b[0;34m\u001b[0m\u001b[0;34m\u001b[0m\u001b[0m\n\u001b[0;32m-> 2994\u001b[0;31m                 \u001b[0;32mreturn\u001b[0m \u001b[0mself\u001b[0m\u001b[0;34m.\u001b[0m\u001b[0m_getitem_multilevel\u001b[0m\u001b[0;34m(\u001b[0m\u001b[0mkey\u001b[0m\u001b[0;34m)\u001b[0m\u001b[0;34m\u001b[0m\u001b[0;34m\u001b[0m\u001b[0m\n\u001b[0m\u001b[1;32m   2995\u001b[0m             \u001b[0mindexer\u001b[0m \u001b[0;34m=\u001b[0m \u001b[0mself\u001b[0m\u001b[0;34m.\u001b[0m\u001b[0mcolumns\u001b[0m\u001b[0;34m.\u001b[0m\u001b[0mget_loc\u001b[0m\u001b[0;34m(\u001b[0m\u001b[0mkey\u001b[0m\u001b[0;34m)\u001b[0m\u001b[0;34m\u001b[0m\u001b[0;34m\u001b[0m\u001b[0m\n\u001b[1;32m   2996\u001b[0m             \u001b[0;32mif\u001b[0m \u001b[0mis_integer\u001b[0m\u001b[0;34m(\u001b[0m\u001b[0mindexer\u001b[0m\u001b[0;34m)\u001b[0m\u001b[0;34m:\u001b[0m\u001b[0;34m\u001b[0m\u001b[0;34m\u001b[0m\u001b[0m\n",
      "\u001b[0;32m/Library/Frameworks/Python.framework/Versions/3.8/lib/python3.8/site-packages/pandas/core/frame.py\u001b[0m in \u001b[0;36m_getitem_multilevel\u001b[0;34m(self, key)\u001b[0m\n\u001b[1;32m   3041\u001b[0m \u001b[0;34m\u001b[0m\u001b[0m\n\u001b[1;32m   3042\u001b[0m     \u001b[0;32mdef\u001b[0m \u001b[0m_getitem_multilevel\u001b[0m\u001b[0;34m(\u001b[0m\u001b[0mself\u001b[0m\u001b[0;34m,\u001b[0m \u001b[0mkey\u001b[0m\u001b[0;34m)\u001b[0m\u001b[0;34m:\u001b[0m\u001b[0;34m\u001b[0m\u001b[0;34m\u001b[0m\u001b[0m\n\u001b[0;32m-> 3043\u001b[0;31m         \u001b[0mloc\u001b[0m \u001b[0;34m=\u001b[0m \u001b[0mself\u001b[0m\u001b[0;34m.\u001b[0m\u001b[0mcolumns\u001b[0m\u001b[0;34m.\u001b[0m\u001b[0mget_loc\u001b[0m\u001b[0;34m(\u001b[0m\u001b[0mkey\u001b[0m\u001b[0;34m)\u001b[0m\u001b[0;34m\u001b[0m\u001b[0;34m\u001b[0m\u001b[0m\n\u001b[0m\u001b[1;32m   3044\u001b[0m         \u001b[0;32mif\u001b[0m \u001b[0misinstance\u001b[0m\u001b[0;34m(\u001b[0m\u001b[0mloc\u001b[0m\u001b[0;34m,\u001b[0m \u001b[0;34m(\u001b[0m\u001b[0mslice\u001b[0m\u001b[0;34m,\u001b[0m \u001b[0mSeries\u001b[0m\u001b[0;34m,\u001b[0m \u001b[0mnp\u001b[0m\u001b[0;34m.\u001b[0m\u001b[0mndarray\u001b[0m\u001b[0;34m,\u001b[0m \u001b[0mIndex\u001b[0m\u001b[0;34m)\u001b[0m\u001b[0;34m)\u001b[0m\u001b[0;34m:\u001b[0m\u001b[0;34m\u001b[0m\u001b[0;34m\u001b[0m\u001b[0m\n\u001b[1;32m   3045\u001b[0m             \u001b[0mnew_columns\u001b[0m \u001b[0;34m=\u001b[0m \u001b[0mself\u001b[0m\u001b[0;34m.\u001b[0m\u001b[0mcolumns\u001b[0m\u001b[0;34m[\u001b[0m\u001b[0mloc\u001b[0m\u001b[0;34m]\u001b[0m\u001b[0;34m\u001b[0m\u001b[0;34m\u001b[0m\u001b[0m\n",
      "\u001b[0;32m/Library/Frameworks/Python.framework/Versions/3.8/lib/python3.8/site-packages/pandas/core/indexes/multi.py\u001b[0m in \u001b[0;36mget_loc\u001b[0;34m(self, key, method)\u001b[0m\n\u001b[1;32m   2672\u001b[0m \u001b[0;34m\u001b[0m\u001b[0m\n\u001b[1;32m   2673\u001b[0m         \u001b[0;32mif\u001b[0m \u001b[0;32mnot\u001b[0m \u001b[0misinstance\u001b[0m\u001b[0;34m(\u001b[0m\u001b[0mkey\u001b[0m\u001b[0;34m,\u001b[0m \u001b[0mtuple\u001b[0m\u001b[0;34m)\u001b[0m\u001b[0;34m:\u001b[0m\u001b[0;34m\u001b[0m\u001b[0;34m\u001b[0m\u001b[0m\n\u001b[0;32m-> 2674\u001b[0;31m             \u001b[0mloc\u001b[0m \u001b[0;34m=\u001b[0m \u001b[0mself\u001b[0m\u001b[0;34m.\u001b[0m\u001b[0m_get_level_indexer\u001b[0m\u001b[0;34m(\u001b[0m\u001b[0mkey\u001b[0m\u001b[0;34m,\u001b[0m \u001b[0mlevel\u001b[0m\u001b[0;34m=\u001b[0m\u001b[0;36m0\u001b[0m\u001b[0;34m)\u001b[0m\u001b[0;34m\u001b[0m\u001b[0;34m\u001b[0m\u001b[0m\n\u001b[0m\u001b[1;32m   2675\u001b[0m             \u001b[0;32mreturn\u001b[0m \u001b[0m_maybe_to_slice\u001b[0m\u001b[0;34m(\u001b[0m\u001b[0mloc\u001b[0m\u001b[0;34m)\u001b[0m\u001b[0;34m\u001b[0m\u001b[0;34m\u001b[0m\u001b[0m\n\u001b[1;32m   2676\u001b[0m \u001b[0;34m\u001b[0m\u001b[0m\n",
      "\u001b[0;32m/Library/Frameworks/Python.framework/Versions/3.8/lib/python3.8/site-packages/pandas/core/indexes/multi.py\u001b[0m in \u001b[0;36m_get_level_indexer\u001b[0;34m(self, key, level, indexer)\u001b[0m\n\u001b[1;32m   2937\u001b[0m         \u001b[0;32melse\u001b[0m\u001b[0;34m:\u001b[0m\u001b[0;34m\u001b[0m\u001b[0;34m\u001b[0m\u001b[0m\n\u001b[1;32m   2938\u001b[0m \u001b[0;34m\u001b[0m\u001b[0m\n\u001b[0;32m-> 2939\u001b[0;31m             \u001b[0mcode\u001b[0m \u001b[0;34m=\u001b[0m \u001b[0mlevel_index\u001b[0m\u001b[0;34m.\u001b[0m\u001b[0mget_loc\u001b[0m\u001b[0;34m(\u001b[0m\u001b[0mkey\u001b[0m\u001b[0;34m)\u001b[0m\u001b[0;34m\u001b[0m\u001b[0;34m\u001b[0m\u001b[0m\n\u001b[0m\u001b[1;32m   2940\u001b[0m \u001b[0;34m\u001b[0m\u001b[0m\n\u001b[1;32m   2941\u001b[0m             \u001b[0;32mif\u001b[0m \u001b[0mlevel\u001b[0m \u001b[0;34m>\u001b[0m \u001b[0;36m0\u001b[0m \u001b[0;32mor\u001b[0m \u001b[0mself\u001b[0m\u001b[0;34m.\u001b[0m\u001b[0mlexsort_depth\u001b[0m \u001b[0;34m==\u001b[0m \u001b[0;36m0\u001b[0m\u001b[0;34m:\u001b[0m\u001b[0;34m\u001b[0m\u001b[0;34m\u001b[0m\u001b[0m\n",
      "\u001b[0;32m/Library/Frameworks/Python.framework/Versions/3.8/lib/python3.8/site-packages/pandas/core/indexes/base.py\u001b[0m in \u001b[0;36mget_loc\u001b[0;34m(self, key, method, tolerance)\u001b[0m\n\u001b[1;32m   2897\u001b[0m                 \u001b[0;32mreturn\u001b[0m \u001b[0mself\u001b[0m\u001b[0;34m.\u001b[0m\u001b[0m_engine\u001b[0m\u001b[0;34m.\u001b[0m\u001b[0mget_loc\u001b[0m\u001b[0;34m(\u001b[0m\u001b[0mkey\u001b[0m\u001b[0;34m)\u001b[0m\u001b[0;34m\u001b[0m\u001b[0;34m\u001b[0m\u001b[0m\n\u001b[1;32m   2898\u001b[0m             \u001b[0;32mexcept\u001b[0m \u001b[0mKeyError\u001b[0m\u001b[0;34m:\u001b[0m\u001b[0;34m\u001b[0m\u001b[0;34m\u001b[0m\u001b[0m\n\u001b[0;32m-> 2899\u001b[0;31m                 \u001b[0;32mreturn\u001b[0m \u001b[0mself\u001b[0m\u001b[0;34m.\u001b[0m\u001b[0m_engine\u001b[0m\u001b[0;34m.\u001b[0m\u001b[0mget_loc\u001b[0m\u001b[0;34m(\u001b[0m\u001b[0mself\u001b[0m\u001b[0;34m.\u001b[0m\u001b[0m_maybe_cast_indexer\u001b[0m\u001b[0;34m(\u001b[0m\u001b[0mkey\u001b[0m\u001b[0;34m)\u001b[0m\u001b[0;34m)\u001b[0m\u001b[0;34m\u001b[0m\u001b[0;34m\u001b[0m\u001b[0m\n\u001b[0m\u001b[1;32m   2900\u001b[0m         \u001b[0mindexer\u001b[0m \u001b[0;34m=\u001b[0m \u001b[0mself\u001b[0m\u001b[0;34m.\u001b[0m\u001b[0mget_indexer\u001b[0m\u001b[0;34m(\u001b[0m\u001b[0;34m[\u001b[0m\u001b[0mkey\u001b[0m\u001b[0;34m]\u001b[0m\u001b[0;34m,\u001b[0m \u001b[0mmethod\u001b[0m\u001b[0;34m=\u001b[0m\u001b[0mmethod\u001b[0m\u001b[0;34m,\u001b[0m \u001b[0mtolerance\u001b[0m\u001b[0;34m=\u001b[0m\u001b[0mtolerance\u001b[0m\u001b[0;34m)\u001b[0m\u001b[0;34m\u001b[0m\u001b[0;34m\u001b[0m\u001b[0m\n\u001b[1;32m   2901\u001b[0m         \u001b[0;32mif\u001b[0m \u001b[0mindexer\u001b[0m\u001b[0;34m.\u001b[0m\u001b[0mndim\u001b[0m \u001b[0;34m>\u001b[0m \u001b[0;36m1\u001b[0m \u001b[0;32mor\u001b[0m \u001b[0mindexer\u001b[0m\u001b[0;34m.\u001b[0m\u001b[0msize\u001b[0m \u001b[0;34m>\u001b[0m \u001b[0;36m1\u001b[0m\u001b[0;34m:\u001b[0m\u001b[0;34m\u001b[0m\u001b[0;34m\u001b[0m\u001b[0m\n",
      "\u001b[0;32mpandas/_libs/index.pyx\u001b[0m in \u001b[0;36mpandas._libs.index.IndexEngine.get_loc\u001b[0;34m()\u001b[0m\n",
      "\u001b[0;32mpandas/_libs/index.pyx\u001b[0m in \u001b[0;36mpandas._libs.index.IndexEngine.get_loc\u001b[0;34m()\u001b[0m\n",
      "\u001b[0;32mpandas/_libs/hashtable_class_helper.pxi\u001b[0m in \u001b[0;36mpandas._libs.hashtable.PyObjectHashTable.get_item\u001b[0;34m()\u001b[0m\n",
      "\u001b[0;32mpandas/_libs/hashtable_class_helper.pxi\u001b[0m in \u001b[0;36mpandas._libs.hashtable.PyObjectHashTable.get_item\u001b[0;34m()\u001b[0m\n",
      "\u001b[0;31mKeyError\u001b[0m: 'oETH'"
     ]
    }
   ],
   "source": [
    "x = txdf3['oETH']\n",
    "y = txdf3['stablecoin']\n",
    "colormap = np.array(['r', 'g', 'b', 'k'])\n",
    "\n",
    "plt.scatter(x, y, c = colormap[txdf3.cluster], alpha = 0.75)\n",
    "plt.xlabel('oETH Transaction Notional Value')\n",
    "plt.ylabel('Stablecoin Transaction Notional Value')\n",
    "plt.title('Transacting Address Clusters - oETH vs. stablecoin')\n",
    ";"
   ]
  },
  {
   "cell_type": "code",
   "execution_count": 40,
   "metadata": {},
   "outputs": [
    {
     "ename": "KeyError",
     "evalue": "('value', 'buy', 'oETH')",
     "output_type": "error",
     "traceback": [
      "\u001b[0;31m-----------------------------------------------------------------------\u001b[0m",
      "\u001b[0;31mKeyError\u001b[0m                              Traceback (most recent call last)",
      "\u001b[0;32m/Library/Frameworks/Python.framework/Versions/3.8/lib/python3.8/site-packages/pandas/core/indexes/base.py\u001b[0m in \u001b[0;36mget_loc\u001b[0;34m(self, key, method, tolerance)\u001b[0m\n\u001b[1;32m   2896\u001b[0m             \u001b[0;32mtry\u001b[0m\u001b[0;34m:\u001b[0m\u001b[0;34m\u001b[0m\u001b[0;34m\u001b[0m\u001b[0m\n\u001b[0;32m-> 2897\u001b[0;31m                 \u001b[0;32mreturn\u001b[0m \u001b[0mself\u001b[0m\u001b[0;34m.\u001b[0m\u001b[0m_engine\u001b[0m\u001b[0;34m.\u001b[0m\u001b[0mget_loc\u001b[0m\u001b[0;34m(\u001b[0m\u001b[0mkey\u001b[0m\u001b[0;34m)\u001b[0m\u001b[0;34m\u001b[0m\u001b[0;34m\u001b[0m\u001b[0m\n\u001b[0m\u001b[1;32m   2898\u001b[0m             \u001b[0;32mexcept\u001b[0m \u001b[0mKeyError\u001b[0m\u001b[0;34m:\u001b[0m\u001b[0;34m\u001b[0m\u001b[0;34m\u001b[0m\u001b[0m\n",
      "\u001b[0;32mpandas/_libs/index.pyx\u001b[0m in \u001b[0;36mpandas._libs.index.IndexEngine.get_loc\u001b[0;34m()\u001b[0m\n",
      "\u001b[0;32mpandas/_libs/index.pyx\u001b[0m in \u001b[0;36mpandas._libs.index.IndexEngine.get_loc\u001b[0;34m()\u001b[0m\n",
      "\u001b[0;32mpandas/_libs/hashtable_class_helper.pxi\u001b[0m in \u001b[0;36mpandas._libs.hashtable.PyObjectHashTable.get_item\u001b[0;34m()\u001b[0m\n",
      "\u001b[0;32mpandas/_libs/hashtable_class_helper.pxi\u001b[0m in \u001b[0;36mpandas._libs.hashtable.PyObjectHashTable.get_item\u001b[0;34m()\u001b[0m\n",
      "\u001b[0;31mKeyError\u001b[0m: 'oETH'",
      "\nDuring handling of the above exception, another exception occurred:\n",
      "\u001b[0;31mKeyError\u001b[0m                              Traceback (most recent call last)",
      "\u001b[0;32mpandas/_libs/index.pyx\u001b[0m in \u001b[0;36mpandas._libs.index.BaseMultiIndexCodesEngine.get_loc\u001b[0;34m()\u001b[0m\n",
      "\u001b[0;32m/Library/Frameworks/Python.framework/Versions/3.8/lib/python3.8/site-packages/pandas/core/indexes/base.py\u001b[0m in \u001b[0;36mget_loc\u001b[0;34m(self, key, method, tolerance)\u001b[0m\n\u001b[1;32m   2898\u001b[0m             \u001b[0;32mexcept\u001b[0m \u001b[0mKeyError\u001b[0m\u001b[0;34m:\u001b[0m\u001b[0;34m\u001b[0m\u001b[0;34m\u001b[0m\u001b[0m\n\u001b[0;32m-> 2899\u001b[0;31m                 \u001b[0;32mreturn\u001b[0m \u001b[0mself\u001b[0m\u001b[0;34m.\u001b[0m\u001b[0m_engine\u001b[0m\u001b[0;34m.\u001b[0m\u001b[0mget_loc\u001b[0m\u001b[0;34m(\u001b[0m\u001b[0mself\u001b[0m\u001b[0;34m.\u001b[0m\u001b[0m_maybe_cast_indexer\u001b[0m\u001b[0;34m(\u001b[0m\u001b[0mkey\u001b[0m\u001b[0;34m)\u001b[0m\u001b[0;34m)\u001b[0m\u001b[0;34m\u001b[0m\u001b[0;34m\u001b[0m\u001b[0m\n\u001b[0m\u001b[1;32m   2900\u001b[0m         \u001b[0mindexer\u001b[0m \u001b[0;34m=\u001b[0m \u001b[0mself\u001b[0m\u001b[0;34m.\u001b[0m\u001b[0mget_indexer\u001b[0m\u001b[0;34m(\u001b[0m\u001b[0;34m[\u001b[0m\u001b[0mkey\u001b[0m\u001b[0;34m]\u001b[0m\u001b[0;34m,\u001b[0m \u001b[0mmethod\u001b[0m\u001b[0;34m=\u001b[0m\u001b[0mmethod\u001b[0m\u001b[0;34m,\u001b[0m \u001b[0mtolerance\u001b[0m\u001b[0;34m=\u001b[0m\u001b[0mtolerance\u001b[0m\u001b[0;34m)\u001b[0m\u001b[0;34m\u001b[0m\u001b[0;34m\u001b[0m\u001b[0m\n",
      "\u001b[0;32mpandas/_libs/index.pyx\u001b[0m in \u001b[0;36mpandas._libs.index.IndexEngine.get_loc\u001b[0;34m()\u001b[0m\n",
      "\u001b[0;32mpandas/_libs/index.pyx\u001b[0m in \u001b[0;36mpandas._libs.index.IndexEngine.get_loc\u001b[0;34m()\u001b[0m\n",
      "\u001b[0;32mpandas/_libs/hashtable_class_helper.pxi\u001b[0m in \u001b[0;36mpandas._libs.hashtable.PyObjectHashTable.get_item\u001b[0;34m()\u001b[0m\n",
      "\u001b[0;32mpandas/_libs/hashtable_class_helper.pxi\u001b[0m in \u001b[0;36mpandas._libs.hashtable.PyObjectHashTable.get_item\u001b[0;34m()\u001b[0m\n",
      "\u001b[0;31mKeyError\u001b[0m: 'oETH'",
      "\nDuring handling of the above exception, another exception occurred:\n",
      "\u001b[0;31mKeyError\u001b[0m                              Traceback (most recent call last)",
      "\u001b[0;32m<ipython-input-40-033f40bb5119>\u001b[0m in \u001b[0;36m<module>\u001b[0;34m\u001b[0m\n\u001b[1;32m      1\u001b[0m \u001b[0mtxdf4\u001b[0m \u001b[0;34m=\u001b[0m \u001b[0mtxdf2\u001b[0m\u001b[0;34m\u001b[0m\u001b[0;34m\u001b[0m\u001b[0m\n\u001b[0;32m----> 2\u001b[0;31m \u001b[0mtxdf4\u001b[0m\u001b[0;34m[\u001b[0m\u001b[0;34m'buy'\u001b[0m\u001b[0;34m]\u001b[0m \u001b[0;34m=\u001b[0m \u001b[0mtxdf2\u001b[0m\u001b[0;34m[\u001b[0m\u001b[0;34m'value'\u001b[0m\u001b[0;34m,\u001b[0m\u001b[0;34m'buy'\u001b[0m\u001b[0;34m,\u001b[0m \u001b[0;34m'oETH'\u001b[0m\u001b[0;34m]\u001b[0m \u001b[0;34m+\u001b[0m \u001b[0mtxdf2\u001b[0m\u001b[0;34m[\u001b[0m\u001b[0;34m'value'\u001b[0m\u001b[0;34m,\u001b[0m\u001b[0;34m'buy'\u001b[0m\u001b[0;34m,\u001b[0m \u001b[0;34m'stablecoin'\u001b[0m\u001b[0;34m]\u001b[0m\u001b[0;34m\u001b[0m\u001b[0;34m\u001b[0m\u001b[0m\n\u001b[0m\u001b[1;32m      3\u001b[0m \u001b[0mtxdf4\u001b[0m\u001b[0;34m[\u001b[0m\u001b[0;34m'sell'\u001b[0m\u001b[0;34m]\u001b[0m \u001b[0;34m=\u001b[0m \u001b[0mtxdf2\u001b[0m\u001b[0;34m[\u001b[0m\u001b[0;34m'value'\u001b[0m\u001b[0;34m,\u001b[0m \u001b[0;34m'sell'\u001b[0m\u001b[0;34m,\u001b[0m \u001b[0;34m'oETH'\u001b[0m\u001b[0;34m]\u001b[0m \u001b[0;34m+\u001b[0m \u001b[0mtxdf2\u001b[0m\u001b[0;34m[\u001b[0m\u001b[0;34m'value'\u001b[0m\u001b[0;34m,\u001b[0m\u001b[0;34m'sell'\u001b[0m\u001b[0;34m,\u001b[0m \u001b[0;34m'stablecoin'\u001b[0m\u001b[0;34m]\u001b[0m\u001b[0;34m\u001b[0m\u001b[0;34m\u001b[0m\u001b[0m\n\u001b[1;32m      4\u001b[0m \u001b[0mtxdf4\u001b[0m \u001b[0;34m=\u001b[0m \u001b[0mtxdf4\u001b[0m\u001b[0;34m.\u001b[0m\u001b[0mdrop\u001b[0m\u001b[0;34m(\u001b[0m\u001b[0mcolumns\u001b[0m \u001b[0;34m=\u001b[0m \u001b[0;34m[\u001b[0m\u001b[0;34m'value'\u001b[0m\u001b[0;34m,\u001b[0m \u001b[0;34m'cluster'\u001b[0m\u001b[0;34m,\u001b[0m \u001b[0;34m'oETH'\u001b[0m\u001b[0;34m,\u001b[0m \u001b[0;34m'stablecoin'\u001b[0m\u001b[0;34m]\u001b[0m\u001b[0;34m)\u001b[0m\u001b[0;34m\u001b[0m\u001b[0;34m\u001b[0m\u001b[0m\n\u001b[1;32m      5\u001b[0m \u001b[0mtxdf4\u001b[0m\u001b[0;34m[\u001b[0m\u001b[0;34m'both'\u001b[0m\u001b[0;34m]\u001b[0m \u001b[0;34m=\u001b[0m \u001b[0mnp\u001b[0m\u001b[0;34m.\u001b[0m\u001b[0mwhere\u001b[0m\u001b[0;34m(\u001b[0m\u001b[0;34m(\u001b[0m\u001b[0mtxdf4\u001b[0m\u001b[0;34m.\u001b[0m\u001b[0mbuy\u001b[0m \u001b[0;34m>\u001b[0m \u001b[0;36m0\u001b[0m\u001b[0;34m)\u001b[0m \u001b[0;34m&\u001b[0m \u001b[0;34m(\u001b[0m\u001b[0mtxdf4\u001b[0m\u001b[0;34m.\u001b[0m\u001b[0msell\u001b[0m \u001b[0;34m>\u001b[0m \u001b[0;36m0\u001b[0m\u001b[0;34m)\u001b[0m\u001b[0;34m,\u001b[0m \u001b[0;36m1\u001b[0m\u001b[0;34m,\u001b[0m \u001b[0;36m0\u001b[0m\u001b[0;34m)\u001b[0m\u001b[0;34m\u001b[0m\u001b[0;34m\u001b[0m\u001b[0m\n",
      "\u001b[0;32m/Library/Frameworks/Python.framework/Versions/3.8/lib/python3.8/site-packages/pandas/core/frame.py\u001b[0m in \u001b[0;36m__getitem__\u001b[0;34m(self, key)\u001b[0m\n\u001b[1;32m   2992\u001b[0m         \u001b[0;32mif\u001b[0m \u001b[0mis_single_key\u001b[0m\u001b[0;34m:\u001b[0m\u001b[0;34m\u001b[0m\u001b[0;34m\u001b[0m\u001b[0m\n\u001b[1;32m   2993\u001b[0m             \u001b[0;32mif\u001b[0m \u001b[0mself\u001b[0m\u001b[0;34m.\u001b[0m\u001b[0mcolumns\u001b[0m\u001b[0;34m.\u001b[0m\u001b[0mnlevels\u001b[0m \u001b[0;34m>\u001b[0m \u001b[0;36m1\u001b[0m\u001b[0;34m:\u001b[0m\u001b[0;34m\u001b[0m\u001b[0;34m\u001b[0m\u001b[0m\n\u001b[0;32m-> 2994\u001b[0;31m                 \u001b[0;32mreturn\u001b[0m \u001b[0mself\u001b[0m\u001b[0;34m.\u001b[0m\u001b[0m_getitem_multilevel\u001b[0m\u001b[0;34m(\u001b[0m\u001b[0mkey\u001b[0m\u001b[0;34m)\u001b[0m\u001b[0;34m\u001b[0m\u001b[0;34m\u001b[0m\u001b[0m\n\u001b[0m\u001b[1;32m   2995\u001b[0m             \u001b[0mindexer\u001b[0m \u001b[0;34m=\u001b[0m \u001b[0mself\u001b[0m\u001b[0;34m.\u001b[0m\u001b[0mcolumns\u001b[0m\u001b[0;34m.\u001b[0m\u001b[0mget_loc\u001b[0m\u001b[0;34m(\u001b[0m\u001b[0mkey\u001b[0m\u001b[0;34m)\u001b[0m\u001b[0;34m\u001b[0m\u001b[0;34m\u001b[0m\u001b[0m\n\u001b[1;32m   2996\u001b[0m             \u001b[0;32mif\u001b[0m \u001b[0mis_integer\u001b[0m\u001b[0;34m(\u001b[0m\u001b[0mindexer\u001b[0m\u001b[0;34m)\u001b[0m\u001b[0;34m:\u001b[0m\u001b[0;34m\u001b[0m\u001b[0;34m\u001b[0m\u001b[0m\n",
      "\u001b[0;32m/Library/Frameworks/Python.framework/Versions/3.8/lib/python3.8/site-packages/pandas/core/frame.py\u001b[0m in \u001b[0;36m_getitem_multilevel\u001b[0;34m(self, key)\u001b[0m\n\u001b[1;32m   3041\u001b[0m \u001b[0;34m\u001b[0m\u001b[0m\n\u001b[1;32m   3042\u001b[0m     \u001b[0;32mdef\u001b[0m \u001b[0m_getitem_multilevel\u001b[0m\u001b[0;34m(\u001b[0m\u001b[0mself\u001b[0m\u001b[0;34m,\u001b[0m \u001b[0mkey\u001b[0m\u001b[0;34m)\u001b[0m\u001b[0;34m:\u001b[0m\u001b[0;34m\u001b[0m\u001b[0;34m\u001b[0m\u001b[0m\n\u001b[0;32m-> 3043\u001b[0;31m         \u001b[0mloc\u001b[0m \u001b[0;34m=\u001b[0m \u001b[0mself\u001b[0m\u001b[0;34m.\u001b[0m\u001b[0mcolumns\u001b[0m\u001b[0;34m.\u001b[0m\u001b[0mget_loc\u001b[0m\u001b[0;34m(\u001b[0m\u001b[0mkey\u001b[0m\u001b[0;34m)\u001b[0m\u001b[0;34m\u001b[0m\u001b[0;34m\u001b[0m\u001b[0m\n\u001b[0m\u001b[1;32m   3044\u001b[0m         \u001b[0;32mif\u001b[0m \u001b[0misinstance\u001b[0m\u001b[0;34m(\u001b[0m\u001b[0mloc\u001b[0m\u001b[0;34m,\u001b[0m \u001b[0;34m(\u001b[0m\u001b[0mslice\u001b[0m\u001b[0;34m,\u001b[0m \u001b[0mSeries\u001b[0m\u001b[0;34m,\u001b[0m \u001b[0mnp\u001b[0m\u001b[0;34m.\u001b[0m\u001b[0mndarray\u001b[0m\u001b[0;34m,\u001b[0m \u001b[0mIndex\u001b[0m\u001b[0;34m)\u001b[0m\u001b[0;34m)\u001b[0m\u001b[0;34m:\u001b[0m\u001b[0;34m\u001b[0m\u001b[0;34m\u001b[0m\u001b[0m\n\u001b[1;32m   3045\u001b[0m             \u001b[0mnew_columns\u001b[0m \u001b[0;34m=\u001b[0m \u001b[0mself\u001b[0m\u001b[0;34m.\u001b[0m\u001b[0mcolumns\u001b[0m\u001b[0;34m[\u001b[0m\u001b[0mloc\u001b[0m\u001b[0;34m]\u001b[0m\u001b[0;34m\u001b[0m\u001b[0;34m\u001b[0m\u001b[0m\n",
      "\u001b[0;32m/Library/Frameworks/Python.framework/Versions/3.8/lib/python3.8/site-packages/pandas/core/indexes/multi.py\u001b[0m in \u001b[0;36mget_loc\u001b[0;34m(self, key, method)\u001b[0m\n\u001b[1;32m   2683\u001b[0m \u001b[0;34m\u001b[0m\u001b[0m\n\u001b[1;32m   2684\u001b[0m         \u001b[0;32mif\u001b[0m \u001b[0mkeylen\u001b[0m \u001b[0;34m==\u001b[0m \u001b[0mself\u001b[0m\u001b[0;34m.\u001b[0m\u001b[0mnlevels\u001b[0m \u001b[0;32mand\u001b[0m \u001b[0mself\u001b[0m\u001b[0;34m.\u001b[0m\u001b[0mis_unique\u001b[0m\u001b[0;34m:\u001b[0m\u001b[0;34m\u001b[0m\u001b[0;34m\u001b[0m\u001b[0m\n\u001b[0;32m-> 2685\u001b[0;31m             \u001b[0;32mreturn\u001b[0m \u001b[0mself\u001b[0m\u001b[0;34m.\u001b[0m\u001b[0m_engine\u001b[0m\u001b[0;34m.\u001b[0m\u001b[0mget_loc\u001b[0m\u001b[0;34m(\u001b[0m\u001b[0mkey\u001b[0m\u001b[0;34m)\u001b[0m\u001b[0;34m\u001b[0m\u001b[0;34m\u001b[0m\u001b[0m\n\u001b[0m\u001b[1;32m   2686\u001b[0m \u001b[0;34m\u001b[0m\u001b[0m\n\u001b[1;32m   2687\u001b[0m         \u001b[0;31m# -- partial selection or non-unique index\u001b[0m\u001b[0;34m\u001b[0m\u001b[0;34m\u001b[0m\u001b[0;34m\u001b[0m\u001b[0m\n",
      "\u001b[0;32mpandas/_libs/index.pyx\u001b[0m in \u001b[0;36mpandas._libs.index.BaseMultiIndexCodesEngine.get_loc\u001b[0;34m()\u001b[0m\n",
      "\u001b[0;31mKeyError\u001b[0m: ('value', 'buy', 'oETH')"
     ]
    }
   ],
   "source": [
    "txdf4 = txdf2\n",
    "txdf4['buy'] = txdf2['value','buy', 'oETH'] + txdf2['value','buy', 'stablecoin']\n",
    "txdf4['sell'] = txdf2['value', 'sell', 'oETH'] + txdf2['value','sell', 'stablecoin']\n",
    "txdf4 = txdf4.drop(columns = ['value', 'cluster', 'oETH', 'stablecoin'])\n",
    "txdf4['both'] = np.where((txdf4.buy > 0) & (txdf4.sell > 0), 1, 0)\n",
    "sum(txdf4.both) / len(txdf4.both)"
   ]
  },
  {
   "cell_type": "code",
   "execution_count": null,
   "metadata": {},
   "outputs": [],
   "source": []
  },
  {
   "cell_type": "code",
   "execution_count": 41,
   "metadata": {},
   "outputs": [
    {
     "data": {
      "text/plain": [
       "Text(0, 0.5, 'WCSS')"
      ]
     },
     "execution_count": 41,
     "metadata": {},
     "output_type": "execute_result"
    },
    {
     "data": {
      "image/png": "[encoded data removed]",
      "text/plain": [
       "<Figure size 432x288 with 1 Axes>"
      ]
     },
     "metadata": {
      "needs_background": "light"
     },
     "output_type": "display_data"
    }
   ],
   "source": [
    "wcss = []\n",
    "for i in range(1, 11):\n",
    "    kmeans = KMeans(n_clusters=i, init='k-means++', max_iter=300, n_init=10, random_state=0)\n",
    "    kmeans.fit(txdf4)\n",
    "    wcss.append(kmeans.inertia_)\n",
    "plt.plot(range(1, 11), wcss)\n",
    "plt.title('Elbow Method')\n",
    "plt.xlabel('Number of clusters')\n",
    "plt.ylabel('WCSS')\n"
   ]
  },
  {
   "cell_type": "code",
   "execution_count": 42,
   "metadata": {},
   "outputs": [
    {
     "data": {
      "text/html": [
       "<div>\n",
       "<style scoped>\n",
       "    .dataframe tbody tr th:only-of-type {\n",
       "        vertical-align: middle;\n",
       "    }\n",
       "\n",
       "    .dataframe tbody tr th {\n",
       "        vertical-align: top;\n",
       "    }\n",
       "\n",
       "    .dataframe thead tr th {\n",
       "        text-align: left;\n",
       "    }\n",
       "\n",
       "    .dataframe thead tr:last-of-type th {\n",
       "        text-align: right;\n",
       "    }\n",
       "</style>\n",
       "<table border=\"1\" class=\"dataframe\">\n",
       "  <thead>\n",
       "    <tr>\n",
       "      <th></th>\n",
       "      <th colspan=\"2\" halign=\"left\">value</th>\n",
       "      <th>proportion</th>\n",
       "      <th>count</th>\n",
       "    </tr>\n",
       "    <tr>\n",
       "      <th>side</th>\n",
       "      <th>buy</th>\n",
       "      <th>sell</th>\n",
       "      <th></th>\n",
       "      <th></th>\n",
       "    </tr>\n",
       "    <tr>\n",
       "      <th>token_group</th>\n",
       "      <th>stablecoin</th>\n",
       "      <th>stablecoin</th>\n",
       "      <th></th>\n",
       "      <th></th>\n",
       "    </tr>\n",
       "    <tr>\n",
       "      <th>cluster</th>\n",
       "      <th></th>\n",
       "      <th></th>\n",
       "      <th></th>\n",
       "      <th></th>\n",
       "    </tr>\n",
       "  </thead>\n",
       "  <tbody>\n",
       "    <tr>\n",
       "      <th>0</th>\n",
       "      <td>1803</td>\n",
       "      <td>1659</td>\n",
       "      <td>0.85</td>\n",
       "      <td>139</td>\n",
       "    </tr>\n",
       "    <tr>\n",
       "      <th>3</th>\n",
       "      <td>16643</td>\n",
       "      <td>57470</td>\n",
       "      <td>0.09</td>\n",
       "      <td>15</td>\n",
       "    </tr>\n",
       "    <tr>\n",
       "      <th>1</th>\n",
       "      <td>156921</td>\n",
       "      <td>23467</td>\n",
       "      <td>0.04</td>\n",
       "      <td>7</td>\n",
       "    </tr>\n",
       "    <tr>\n",
       "      <th>2</th>\n",
       "      <td>506332</td>\n",
       "      <td>603</td>\n",
       "      <td>0.01</td>\n",
       "      <td>1</td>\n",
       "    </tr>\n",
       "    <tr>\n",
       "      <th>4</th>\n",
       "      <td>274387</td>\n",
       "      <td>291187</td>\n",
       "      <td>0.01</td>\n",
       "      <td>1</td>\n",
       "    </tr>\n",
       "  </tbody>\n",
       "</table>\n",
       "</div>"
      ],
      "text/plain": [
       "                 value            proportion count\n",
       "side               buy       sell                 \n",
       "token_group stablecoin stablecoin                 \n",
       "cluster                                           \n",
       "0                 1803       1659       0.85   139\n",
       "3                16643      57470       0.09    15\n",
       "1               156921      23467       0.04     7\n",
       "2               506332        603       0.01     1\n",
       "4               274387     291187       0.01     1"
      ]
     },
     "execution_count": 42,
     "metadata": {},
     "output_type": "execute_result"
    }
   ],
   "source": [
    "kmeans = KMeans(n_clusters=5, init='k-means++', max_iter=300, n_init=10, random_state=0)\n",
    "kmeans.fit(txdf4)\n",
    "labels = kmeans.predict(txdf4)\n",
    "\n",
    "counts = np.bincount(labels)\n",
    "props = counts/len(labels)\n",
    "\n",
    "txdf4['cluster'] = labels\n",
    "clusters = (txdf4.groupby('cluster')\n",
    "            .agg('mean').astype('int').round(0)\n",
    "            .assign(proportion = props.round(2), count = counts)\n",
    "            .sort_values(by=['proportion'], ascending = False)\n",
    "           )\n",
    "clusters"
   ]
  },
  {
   "cell_type": "code",
   "execution_count": 43,
   "metadata": {},
   "outputs": [
    {
     "ename": "AttributeError",
     "evalue": "'DataFrame' object has no attribute 'buy'",
     "output_type": "error",
     "traceback": [
      "\u001b[0;31m-----------------------------------------------------------------------\u001b[0m",
      "\u001b[0;31mAttributeError\u001b[0m                        Traceback (most recent call last)",
      "\u001b[0;32m<ipython-input-43-14da74505701>\u001b[0m in \u001b[0;36m<module>\u001b[0;34m\u001b[0m\n\u001b[1;32m      1\u001b[0m \u001b[0mcolormap\u001b[0m \u001b[0;34m=\u001b[0m \u001b[0mnp\u001b[0m\u001b[0;34m.\u001b[0m\u001b[0marray\u001b[0m\u001b[0;34m(\u001b[0m\u001b[0;34m[\u001b[0m\u001b[0;34m'r'\u001b[0m\u001b[0;34m,\u001b[0m \u001b[0;34m'g'\u001b[0m\u001b[0;34m,\u001b[0m \u001b[0;34m'b'\u001b[0m\u001b[0;34m,\u001b[0m \u001b[0;34m'k'\u001b[0m\u001b[0;34m,\u001b[0m \u001b[0;34m'm'\u001b[0m\u001b[0;34m]\u001b[0m\u001b[0;34m)\u001b[0m\u001b[0;34m\u001b[0m\u001b[0;34m\u001b[0m\u001b[0m\n\u001b[1;32m      2\u001b[0m \u001b[0;34m\u001b[0m\u001b[0m\n\u001b[0;32m----> 3\u001b[0;31m \u001b[0mplt\u001b[0m\u001b[0;34m.\u001b[0m\u001b[0mscatter\u001b[0m\u001b[0;34m(\u001b[0m\u001b[0mtxdf4\u001b[0m\u001b[0;34m.\u001b[0m\u001b[0mbuy\u001b[0m\u001b[0;34m,\u001b[0m \u001b[0mtxdf4\u001b[0m\u001b[0;34m.\u001b[0m\u001b[0msell\u001b[0m\u001b[0;34m,\u001b[0m \u001b[0mc\u001b[0m \u001b[0;34m=\u001b[0m \u001b[0mcolormap\u001b[0m\u001b[0;34m[\u001b[0m\u001b[0mtxdf4\u001b[0m\u001b[0;34m.\u001b[0m\u001b[0mcluster\u001b[0m\u001b[0;34m]\u001b[0m\u001b[0;34m,\u001b[0m \u001b[0malpha\u001b[0m \u001b[0;34m=\u001b[0m \u001b[0;36m0.75\u001b[0m\u001b[0;34m)\u001b[0m\u001b[0;34m\u001b[0m\u001b[0;34m\u001b[0m\u001b[0m\n\u001b[0m\u001b[1;32m      4\u001b[0m \u001b[0mplt\u001b[0m\u001b[0;34m.\u001b[0m\u001b[0mxlabel\u001b[0m\u001b[0;34m(\u001b[0m\u001b[0;34m'oETH Transaction Notional Value'\u001b[0m\u001b[0;34m)\u001b[0m\u001b[0;34m\u001b[0m\u001b[0;34m\u001b[0m\u001b[0m\n\u001b[1;32m      5\u001b[0m \u001b[0mplt\u001b[0m\u001b[0;34m.\u001b[0m\u001b[0mylabel\u001b[0m\u001b[0;34m(\u001b[0m\u001b[0;34m'Stablecoin Transaction Notional Value'\u001b[0m\u001b[0;34m)\u001b[0m\u001b[0;34m\u001b[0m\u001b[0;34m\u001b[0m\u001b[0m\n",
      "\u001b[0;32m/Library/Frameworks/Python.framework/Versions/3.8/lib/python3.8/site-packages/pandas/core/generic.py\u001b[0m in \u001b[0;36m__getattr__\u001b[0;34m(self, name)\u001b[0m\n\u001b[1;32m   5177\u001b[0m             \u001b[0;32mif\u001b[0m \u001b[0mself\u001b[0m\u001b[0;34m.\u001b[0m\u001b[0m_info_axis\u001b[0m\u001b[0;34m.\u001b[0m\u001b[0m_can_hold_identifiers_and_holds_name\u001b[0m\u001b[0;34m(\u001b[0m\u001b[0mname\u001b[0m\u001b[0;34m)\u001b[0m\u001b[0;34m:\u001b[0m\u001b[0;34m\u001b[0m\u001b[0;34m\u001b[0m\u001b[0m\n\u001b[1;32m   5178\u001b[0m                 \u001b[0;32mreturn\u001b[0m \u001b[0mself\u001b[0m\u001b[0;34m[\u001b[0m\u001b[0mname\u001b[0m\u001b[0;34m]\u001b[0m\u001b[0;34m\u001b[0m\u001b[0;34m\u001b[0m\u001b[0m\n\u001b[0;32m-> 5179\u001b[0;31m             \u001b[0;32mreturn\u001b[0m \u001b[0mobject\u001b[0m\u001b[0;34m.\u001b[0m\u001b[0m__getattribute__\u001b[0m\u001b[0;34m(\u001b[0m\u001b[0mself\u001b[0m\u001b[0;34m,\u001b[0m \u001b[0mname\u001b[0m\u001b[0;34m)\u001b[0m\u001b[0;34m\u001b[0m\u001b[0;34m\u001b[0m\u001b[0m\n\u001b[0m\u001b[1;32m   5180\u001b[0m \u001b[0;34m\u001b[0m\u001b[0m\n\u001b[1;32m   5181\u001b[0m     \u001b[0;32mdef\u001b[0m \u001b[0m__setattr__\u001b[0m\u001b[0;34m(\u001b[0m\u001b[0mself\u001b[0m\u001b[0;34m,\u001b[0m \u001b[0mname\u001b[0m\u001b[0;34m,\u001b[0m \u001b[0mvalue\u001b[0m\u001b[0;34m)\u001b[0m\u001b[0;34m:\u001b[0m\u001b[0;34m\u001b[0m\u001b[0;34m\u001b[0m\u001b[0m\n",
      "\u001b[0;31mAttributeError\u001b[0m: 'DataFrame' object has no attribute 'buy'"
     ]
    }
   ],
   "source": [
    "colormap = np.array(['r', 'g', 'b', 'k', 'm'])\n",
    "\n",
    "plt.scatter(txdf4.buy, txdf4.sell, c = colormap[txdf4.cluster], alpha = 0.75)\n",
    "plt.xlabel('oETH Transaction Notional Value')\n",
    "plt.ylabel('Stablecoin Transaction Notional Value')\n",
    "plt.title('Transacting Address Clusters - Buy vs. Sell')\n",
    ";"
   ]
  },
  {
   "cell_type": "markdown",
   "metadata": {},
   "source": [
    "# Opyn Vault Analysis"
   ]
  },
  {
   "cell_type": "code",
   "execution_count": 44,
   "metadata": {},
   "outputs": [
    {
     "data": {
      "text/plain": [
       "(275, 10)"
      ]
     },
     "execution_count": 44,
     "metadata": {},
     "output_type": "execute_result"
    }
   ],
   "source": [
    "vdf0 = pd.read_csv('Opyn-Vaults.csv')\n",
    "vdf0.shape"
   ]
  },
  {
   "cell_type": "code",
   "execution_count": 45,
   "metadata": {},
   "outputs": [
    {
     "data": {
      "text/plain": [
       "(187, 5)"
      ]
     },
     "execution_count": 45,
     "metadata": {},
     "output_type": "execute_result"
    }
   ],
   "source": [
    "vdf = vdf0[vdf0['expired'] == 0]\n",
    "vdf = vdf[vdf['address'] != '0x076c…11e4']\n",
    "\n",
    "vdf = (vdf[vdf['oToken'] != 'ETH Call $250 05/29/20']\n",
    "      .drop(columns = ['ratio', 'collateral', 'issued', 'collateral_token', 'expired'])\n",
    "      .replace(r'ETH.+', 'oETH', regex = True)\n",
    "      )\n",
    "vdf.shape"
   ]
  },
  {
   "cell_type": "code",
   "execution_count": 46,
   "metadata": {},
   "outputs": [
    {
     "data": {
      "text/html": [
       "<div>\n",
       "<style scoped>\n",
       "    .dataframe tbody tr th:only-of-type {\n",
       "        vertical-align: middle;\n",
       "    }\n",
       "\n",
       "    .dataframe tbody tr th {\n",
       "        vertical-align: top;\n",
       "    }\n",
       "\n",
       "    .dataframe thead th {\n",
       "        text-align: right;\n",
       "    }\n",
       "</style>\n",
       "<table border=\"1\" class=\"dataframe\">\n",
       "  <thead>\n",
       "    <tr style=\"text-align: right;\">\n",
       "      <th></th>\n",
       "      <th>address</th>\n",
       "      <th>collateral_value_current</th>\n",
       "      <th>notional_value</th>\n",
       "      <th>oToken</th>\n",
       "      <th>oToken_group</th>\n",
       "    </tr>\n",
       "  </thead>\n",
       "  <tbody>\n",
       "    <tr>\n",
       "      <th>0</th>\n",
       "      <td>0x33f7…c452</td>\n",
       "      <td>53.500000</td>\n",
       "      <td>29.302073</td>\n",
       "      <td>ocDAI</td>\n",
       "      <td>stablecoin</td>\n",
       "    </tr>\n",
       "    <tr>\n",
       "      <th>1</th>\n",
       "      <td>0xec32…b7f2</td>\n",
       "      <td>2420.710434</td>\n",
       "      <td>1198.057083</td>\n",
       "      <td>ocDAI</td>\n",
       "      <td>stablecoin</td>\n",
       "    </tr>\n",
       "    <tr>\n",
       "      <th>2</th>\n",
       "      <td>0x47db…c958</td>\n",
       "      <td>0.379208</td>\n",
       "      <td>0.164235</td>\n",
       "      <td>ocDAI</td>\n",
       "      <td>stablecoin</td>\n",
       "    </tr>\n",
       "    <tr>\n",
       "      <th>3</th>\n",
       "      <td>0x3136…0f69</td>\n",
       "      <td>0.537568</td>\n",
       "      <td>0.223493</td>\n",
       "      <td>ocDAI</td>\n",
       "      <td>stablecoin</td>\n",
       "    </tr>\n",
       "    <tr>\n",
       "      <th>4</th>\n",
       "      <td>0xd89b…25f3</td>\n",
       "      <td>21.400000</td>\n",
       "      <td>8.524278</td>\n",
       "      <td>ocDAI</td>\n",
       "      <td>stablecoin</td>\n",
       "    </tr>\n",
       "  </tbody>\n",
       "</table>\n",
       "</div>"
      ],
      "text/plain": [
       "       address  collateral_value_current  notional_value oToken oToken_group\n",
       "0  0x33f7…c452                 53.500000       29.302073  ocDAI   stablecoin\n",
       "1  0xec32…b7f2               2420.710434     1198.057083  ocDAI   stablecoin\n",
       "2  0x47db…c958                  0.379208        0.164235  ocDAI   stablecoin\n",
       "3  0x3136…0f69                  0.537568        0.223493  ocDAI   stablecoin\n",
       "4  0xd89b…25f3                 21.400000        8.524278  ocDAI   stablecoin"
      ]
     },
     "execution_count": 46,
     "metadata": {},
     "output_type": "execute_result"
    }
   ],
   "source": [
    "vdf.head()"
   ]
  },
  {
   "cell_type": "markdown",
   "metadata": {},
   "source": [
    "### Collateral Value"
   ]
  },
  {
   "cell_type": "code",
   "execution_count": 47,
   "metadata": {},
   "outputs": [
    {
     "data": {
      "text/plain": [
       "''"
      ]
     },
     "execution_count": 47,
     "metadata": {},
     "output_type": "execute_result"
    },
    {
     "data": {
      "image/png": "[encoded data removed]",
      "text/plain": [
       "<Figure size 432x288 with 1 Axes>"
      ]
     },
     "metadata": {
      "needs_background": "light"
     },
     "output_type": "display_data"
    }
   ],
   "source": [
    "collat = vdf.collateral_value_current\n",
    "\n",
    "hist, bins, _ = plt.hist(collat, bins=33, density = False, weights=np.ones(len(collat)) / len(collat))\n",
    "ax = plt.gca()\n",
    "ax.yaxis.set_major_formatter(mtick.PercentFormatter(1))\n",
    "plt.ylim(0,.8)\n",
    "plt.title('Vault Collateral Value Distribution - Total')\n",
    "plt.xlabel('Vault Collateral Value ($)')\n",
    "plt.text(.5, .9, 'Bin size = ${}'.format(round(bins[1], 2)), horizontalalignment='center', verticalalignment='center', transform=ax.transAxes)\n",
    "; "
   ]
  },
  {
   "cell_type": "code",
   "execution_count": 48,
   "metadata": {},
   "outputs": [
    {
     "data": {
      "image/png": "[encoded data removed]",
      "text/plain": [
       "<Figure size 432x288 with 1 Axes>"
      ]
     },
     "metadata": {
      "needs_background": "light"
     },
     "output_type": "display_data"
    }
   ],
   "source": [
    "kwargs = dict(histtype='bar', alpha=.3, bins=np.logspace(np.log10(bins[0]+1),np.log10(bins[-1]),len(bins)))\n",
    "\n",
    "plt.axvline(collat.median(), label = 'median', color = 'blue')\n",
    "plt.hist(collat, **kwargs, label = 'value')\n",
    "plt.text(.25, .9, '$'+str(round(collat.median(),2)), horizontalalignment='center', \n",
    "         verticalalignment='center', transform=ax.transAxes, color = 'blue')\n",
    "plt.xscale('log')\n",
    "plt.legend()\n",
    "plt.title('Vault Collateral Value Log Distribution - Total')\n",
    "plt.xlabel('Vault Collateral Value (log $)');"
   ]
  },
  {
   "cell_type": "code",
   "execution_count": 49,
   "metadata": {},
   "outputs": [],
   "source": [
    "# Collateral Value\n",
    "ocDAI_collat = vdf[vdf.oToken == 'ocDAI'].collateral_value_current\n",
    "ocUSDC_collat = vdf[vdf.oToken == 'ocUSDC'].collateral_value_current\n",
    "oETH_collat = vdf[vdf.oToken == 'oETH'].collateral_value_current\n",
    "\n",
    "stable_collat = vdf[vdf.oToken_group == 'stablecoin'].collateral_value_current"
   ]
  },
  {
   "cell_type": "code",
   "execution_count": 50,
   "metadata": {},
   "outputs": [
    {
     "data": {
      "image/png": "[encoded data removed]",
      "text/plain": [
       "<Figure size 432x288 with 1 Axes>"
      ]
     },
     "metadata": {
      "needs_background": "light"
     },
     "output_type": "display_data"
    }
   ],
   "source": [
    "plt.hist(oETH_collat, **kwargs, label = 'oETH')\n",
    "plt.hist(ocDAI_collat, **kwargs, label = 'ocDAI')\n",
    "plt.hist(ocUSDC_collat, **kwargs, label = 'ocUSDC')\n",
    "plt.axvline(oETH_collat.median(), label = 'oETH_median', color = 'blue')\n",
    "plt.axvline(ocDAI_collat.median(), label = 'ocDAI_median', color = 'orange')\n",
    "plt.axvline(ocUSDC_collat.median(), label = 'ocUSDC_median', color = 'green')\n",
    "plt.xscale('log')\n",
    "plt.legend()\n",
    "plt.title('Vault Collateral Value Distribution by oToken')\n",
    "plt.xlabel('Vault Collateral Value (log $)');"
   ]
  },
  {
   "cell_type": "code",
   "execution_count": 51,
   "metadata": {},
   "outputs": [
    {
     "data": {
      "image/png": "[encoded data removed]",
      "text/plain": [
       "<Figure size 432x288 with 1 Axes>"
      ]
     },
     "metadata": {
      "needs_background": "light"
     },
     "output_type": "display_data"
    }
   ],
   "source": [
    "plt.hist(oETH_collat, **kwargs, label = 'oETH')\n",
    "plt.hist(stable_collat, **kwargs, label = 'stablecoins')\n",
    "plt.axvline(oETH_collat.median(), label = 'oETH_median', color = 'blue')\n",
    "plt.axvline(stable_collat.median(), label = 'stablecoins_median', color = 'orange')\n",
    "plt.xscale('log')\n",
    "plt.legend()\n",
    "plt.title('Vault Collateral Value Distribution by oToken')\n",
    "plt.xlabel('Vault Collateral Value (log $)');"
   ]
  },
  {
   "cell_type": "markdown",
   "metadata": {},
   "source": [
    "### Notional Value"
   ]
  },
  {
   "cell_type": "code",
   "execution_count": 52,
   "metadata": {},
   "outputs": [
    {
     "data": {
      "image/png": "[encoded data removed]",
      "text/plain": [
       "<Figure size 432x288 with 1 Axes>"
      ]
     },
     "metadata": {
      "needs_background": "light"
     },
     "output_type": "display_data"
    }
   ],
   "source": [
    "nv = vdf.notional_value\n",
    "\n",
    "plt.axvline(nv.median(), label = 'median', color = 'blue')\n",
    "plt.hist(nv, **kwargs, label = 'value')\n",
    "plt.text(.25, .9, '$'+str(round(nv.median(),2)), horizontalalignment='center', \n",
    "         verticalalignment='center', transform=ax.transAxes, color = 'blue')\n",
    "plt.xscale('log')\n",
    "plt.legend()\n",
    "plt.title('Vault Notional Value Log Distribution - Total')\n",
    "plt.xlabel('Vault Notional Value (log $)');"
   ]
  },
  {
   "cell_type": "code",
   "execution_count": 53,
   "metadata": {},
   "outputs": [],
   "source": [
    "# Notional Value\n",
    "\n",
    "ocDAI_nv = vdf[vdf.oToken == 'ocDAI'].notional_value\n",
    "ocUSDC_nv = vdf[vdf.oToken == 'ocUSDC'].notional_value\n",
    "oETH_nv = vdf[vdf.oToken == 'oETH'].notional_value\n",
    "\n",
    "stable_nv = vdf[vdf.oToken_group == 'stablecoin'].notional_value"
   ]
  },
  {
   "cell_type": "code",
   "execution_count": 54,
   "metadata": {},
   "outputs": [
    {
     "data": {
      "image/png": "[encoded data removed]",
      "text/plain": [
       "<Figure size 432x288 with 1 Axes>"
      ]
     },
     "metadata": {
      "needs_background": "light"
     },
     "output_type": "display_data"
    }
   ],
   "source": [
    "plt.hist(oETH_nv, **kwargs, label = 'oETH')\n",
    "plt.hist(ocDAI_nv, **kwargs, label = 'ocDAI')\n",
    "plt.hist(ocUSDC_nv, **kwargs, label = 'ocUSDC')\n",
    "plt.axvline(oETH_nv.median(), label = 'oETH_median', color = 'blue')\n",
    "plt.axvline(ocDAI_nv.median(), label = 'ocDAI_median', color = 'orange')\n",
    "plt.axvline(ocUSDC_nv.median(), label = 'ocUSDC_median', color = 'green')\n",
    "plt.xscale('log')\n",
    "plt.legend()\n",
    "plt.title('Vault Notional Value Distribution by oToken')\n",
    "plt.xlabel('Vault Notional Value (log $)');"
   ]
  },
  {
   "cell_type": "markdown",
   "metadata": {},
   "source": [
    "### Address Vault Collateral Value Clusters"
   ]
  },
  {
   "cell_type": "code",
   "execution_count": 55,
   "metadata": {},
   "outputs": [
    {
     "data": {
      "text/plain": [
       "(137, 2)"
      ]
     },
     "execution_count": 55,
     "metadata": {},
     "output_type": "execute_result"
    }
   ],
   "source": [
    "vdf2 = (vdf.drop(columns = ['notional_value', 'oToken'])\n",
    "        .groupby(['address', 'oToken_group']).agg(sum)\n",
    "         .unstack(level=1)\n",
    "         .fillna(.0000000000001)\n",
    "       )\n",
    "vdf2.shape"
   ]
  },
  {
   "cell_type": "code",
   "execution_count": 56,
   "metadata": {},
   "outputs": [
    {
     "data": {
      "text/html": [
       "<div>\n",
       "<style scoped>\n",
       "    .dataframe tbody tr th:only-of-type {\n",
       "        vertical-align: middle;\n",
       "    }\n",
       "\n",
       "    .dataframe tbody tr th {\n",
       "        vertical-align: top;\n",
       "    }\n",
       "\n",
       "    .dataframe thead tr th {\n",
       "        text-align: left;\n",
       "    }\n",
       "\n",
       "    .dataframe thead tr:last-of-type th {\n",
       "        text-align: right;\n",
       "    }\n",
       "</style>\n",
       "<table border=\"1\" class=\"dataframe\">\n",
       "  <thead>\n",
       "    <tr>\n",
       "      <th></th>\n",
       "      <th colspan=\"2\" halign=\"left\">collateral_value_current</th>\n",
       "    </tr>\n",
       "    <tr>\n",
       "      <th>oToken_group</th>\n",
       "      <th>oETH</th>\n",
       "      <th>stablecoin</th>\n",
       "    </tr>\n",
       "    <tr>\n",
       "      <th>address</th>\n",
       "      <th></th>\n",
       "      <th></th>\n",
       "    </tr>\n",
       "  </thead>\n",
       "  <tbody>\n",
       "    <tr>\n",
       "      <th>0x000a…5a8e</th>\n",
       "      <td>3.580000e+03</td>\n",
       "      <td>1.000000e-13</td>\n",
       "    </tr>\n",
       "    <tr>\n",
       "      <th>0x01bd…a0f2</th>\n",
       "      <td>5.000000e+04</td>\n",
       "      <td>1.000000e-13</td>\n",
       "    </tr>\n",
       "    <tr>\n",
       "      <th>0x0381…9ad4</th>\n",
       "      <td>1.291656e+02</td>\n",
       "      <td>1.000000e-13</td>\n",
       "    </tr>\n",
       "    <tr>\n",
       "      <th>0x0837…0f4f</th>\n",
       "      <td>1.000000e-13</td>\n",
       "      <td>1.096600e+01</td>\n",
       "    </tr>\n",
       "    <tr>\n",
       "      <th>0x0a33…efde</th>\n",
       "      <td>4.534986e+03</td>\n",
       "      <td>1.000000e-13</td>\n",
       "    </tr>\n",
       "    <tr>\n",
       "      <th>...</th>\n",
       "      <td>...</td>\n",
       "      <td>...</td>\n",
       "    </tr>\n",
       "    <tr>\n",
       "      <th>0xf4d9…8c72</th>\n",
       "      <td>1.000000e-13</td>\n",
       "      <td>2.546600e-01</td>\n",
       "    </tr>\n",
       "    <tr>\n",
       "      <th>0xf665…5796</th>\n",
       "      <td>1.000000e-13</td>\n",
       "      <td>1.605000e+01</td>\n",
       "    </tr>\n",
       "    <tr>\n",
       "      <th>0xfb33…22fe</th>\n",
       "      <td>1.000000e-13</td>\n",
       "      <td>2.140000e-02</td>\n",
       "    </tr>\n",
       "    <tr>\n",
       "      <th>0xff07…5e51</th>\n",
       "      <td>1.500000e+05</td>\n",
       "      <td>1.000000e-13</td>\n",
       "    </tr>\n",
       "    <tr>\n",
       "      <th>0xffac…1bb5</th>\n",
       "      <td>1.000000e-13</td>\n",
       "      <td>1.070000e+01</td>\n",
       "    </tr>\n",
       "  </tbody>\n",
       "</table>\n",
       "<p>137 rows × 2 columns</p>\n",
       "</div>"
      ],
      "text/plain": [
       "             collateral_value_current              \n",
       "oToken_group                     oETH    stablecoin\n",
       "address                                            \n",
       "0x000a…5a8e              3.580000e+03  1.000000e-13\n",
       "0x01bd…a0f2              5.000000e+04  1.000000e-13\n",
       "0x0381…9ad4              1.291656e+02  1.000000e-13\n",
       "0x0837…0f4f              1.000000e-13  1.096600e+01\n",
       "0x0a33…efde              4.534986e+03  1.000000e-13\n",
       "...                               ...           ...\n",
       "0xf4d9…8c72              1.000000e-13  2.546600e-01\n",
       "0xf665…5796              1.000000e-13  1.605000e+01\n",
       "0xfb33…22fe              1.000000e-13  2.140000e-02\n",
       "0xff07…5e51              1.500000e+05  1.000000e-13\n",
       "0xffac…1bb5              1.000000e-13  1.070000e+01\n",
       "\n",
       "[137 rows x 2 columns]"
      ]
     },
     "execution_count": 56,
     "metadata": {},
     "output_type": "execute_result"
    }
   ],
   "source": [
    "vdf2"
   ]
  },
  {
   "cell_type": "code",
   "execution_count": 57,
   "metadata": {},
   "outputs": [
    {
     "data": {
      "text/plain": [
       "Text(0, 0.5, 'WCSS')"
      ]
     },
     "execution_count": 57,
     "metadata": {},
     "output_type": "execute_result"
    },
    {
     "data": {
      "image/png": "[encoded data removed]",
      "text/plain": [
       "<Figure size 432x288 with 1 Axes>"
      ]
     },
     "metadata": {
      "needs_background": "light"
     },
     "output_type": "display_data"
    }
   ],
   "source": [
    "wcss = []\n",
    "for i in range(1, 11):\n",
    "    kmeans = KMeans(n_clusters=i, init='k-means++', max_iter=300, n_init=10, random_state=0)\n",
    "    kmeans.fit(vdf2)\n",
    "    wcss.append(kmeans.inertia_)\n",
    "plt.plot(range(1, 11), wcss)\n",
    "plt.title('Elbow Method')\n",
    "plt.xlabel('Number of clusters')\n",
    "plt.ylabel('WCSS')"
   ]
  },
  {
   "cell_type": "code",
   "execution_count": 58,
   "metadata": {},
   "outputs": [
    {
     "data": {
      "text/plain": [
       "KMeans(algorithm='auto', copy_x=True, init='k-means++', max_iter=300,\n",
       "       n_clusters=3, n_init=10, n_jobs=None, precompute_distances='auto',\n",
       "       random_state=0, tol=0.0001, verbose=0)"
      ]
     },
     "execution_count": 58,
     "metadata": {},
     "output_type": "execute_result"
    }
   ],
   "source": [
    "kmeans = KMeans(n_clusters=3, init='k-means++', max_iter=300, n_init=10, random_state=0)\n",
    "kmeans.fit(vdf2)"
   ]
  },
  {
   "cell_type": "code",
   "execution_count": 59,
   "metadata": {},
   "outputs": [
    {
     "data": {
      "text/html": [
       "<div>\n",
       "<style scoped>\n",
       "    .dataframe tbody tr th:only-of-type {\n",
       "        vertical-align: middle;\n",
       "    }\n",
       "\n",
       "    .dataframe tbody tr th {\n",
       "        vertical-align: top;\n",
       "    }\n",
       "\n",
       "    .dataframe thead tr th {\n",
       "        text-align: left;\n",
       "    }\n",
       "\n",
       "    .dataframe thead tr:last-of-type th {\n",
       "        text-align: right;\n",
       "    }\n",
       "</style>\n",
       "<table border=\"1\" class=\"dataframe\">\n",
       "  <thead>\n",
       "    <tr>\n",
       "      <th></th>\n",
       "      <th colspan=\"2\" halign=\"left\">collateral_value_current</th>\n",
       "      <th>proportion</th>\n",
       "      <th>count</th>\n",
       "    </tr>\n",
       "    <tr>\n",
       "      <th>oToken_group</th>\n",
       "      <th>oETH</th>\n",
       "      <th>stablecoin</th>\n",
       "      <th></th>\n",
       "      <th></th>\n",
       "    </tr>\n",
       "    <tr>\n",
       "      <th>cluster</th>\n",
       "      <th></th>\n",
       "      <th></th>\n",
       "      <th></th>\n",
       "      <th></th>\n",
       "    </tr>\n",
       "  </thead>\n",
       "  <tbody>\n",
       "    <tr>\n",
       "      <th>1</th>\n",
       "      <td>2225</td>\n",
       "      <td>194</td>\n",
       "      <td>0.94</td>\n",
       "      <td>129</td>\n",
       "    </tr>\n",
       "    <tr>\n",
       "      <th>0</th>\n",
       "      <td>66888</td>\n",
       "      <td>0</td>\n",
       "      <td>0.04</td>\n",
       "      <td>6</td>\n",
       "    </tr>\n",
       "    <tr>\n",
       "      <th>2</th>\n",
       "      <td>165481</td>\n",
       "      <td>0</td>\n",
       "      <td>0.01</td>\n",
       "      <td>2</td>\n",
       "    </tr>\n",
       "  </tbody>\n",
       "</table>\n",
       "</div>"
      ],
      "text/plain": [
       "             collateral_value_current            proportion count\n",
       "oToken_group                     oETH stablecoin                 \n",
       "cluster                                                          \n",
       "1                                2225        194       0.94   129\n",
       "0                               66888          0       0.04     6\n",
       "2                              165481          0       0.01     2"
      ]
     },
     "execution_count": 59,
     "metadata": {},
     "output_type": "execute_result"
    }
   ],
   "source": [
    "labels = kmeans.predict(vdf2)\n",
    "\n",
    "counts = np.bincount(labels)\n",
    "props = counts/len(labels)\n",
    "\n",
    "vdf2['cluster'] = labels\n",
    "clusters = (vdf2.groupby('cluster')\n",
    "            .agg('mean').astype('int').round(0)\n",
    "            .assign(proportion = props.round(2), count = counts)\n",
    "            .sort_values(by=['proportion'], ascending = False)\n",
    "           )\n",
    "clusters"
   ]
  },
  {
   "cell_type": "code",
   "execution_count": 60,
   "metadata": {},
   "outputs": [
    {
     "data": {
      "text/plain": [
       "''"
      ]
     },
     "execution_count": 60,
     "metadata": {},
     "output_type": "execute_result"
    },
    {
     "data": {
      "image/png": "[encoded data removed]",
      "text/plain": [
       "<Figure size 432x288 with 1 Axes>"
      ]
     },
     "metadata": {
      "needs_background": "light"
     },
     "output_type": "display_data"
    }
   ],
   "source": [
    "x = vdf2['collateral_value_current','oETH']\n",
    "y = vdf2['collateral_value_current','stablecoin']\n",
    "colormap = np.array(['r', 'g', 'b'])\n",
    "\n",
    "plt.scatter(x, y, c = colormap[vdf2.cluster], alpha = 0.5)\n",
    "plt.xlabel('oETH Vault Collateral Value')\n",
    "plt.ylabel('Stablecoin Vault Collateral Value')\n",
    "plt.title('Vault Owner Clusters')\n",
    "\n",
    "# ax = plt.gca()\n",
    "# ax.set_yscale('log')\n",
    "# ax.set_xscale('log')\n",
    "# plt.ylim(1, max(y) + 1000)\n",
    "# plt.xlim(1, 200000)\n",
    ";"
   ]
  },
  {
   "cell_type": "code",
   "execution_count": 61,
   "metadata": {},
   "outputs": [
    {
     "data": {
      "text/html": [
       "<div>\n",
       "<style scoped>\n",
       "    .dataframe tbody tr th:only-of-type {\n",
       "        vertical-align: middle;\n",
       "    }\n",
       "\n",
       "    .dataframe tbody tr th {\n",
       "        vertical-align: top;\n",
       "    }\n",
       "\n",
       "    .dataframe thead tr th {\n",
       "        text-align: left;\n",
       "    }\n",
       "\n",
       "    .dataframe thead tr:last-of-type th {\n",
       "        text-align: right;\n",
       "    }\n",
       "</style>\n",
       "<table border=\"1\" class=\"dataframe\">\n",
       "  <thead>\n",
       "    <tr>\n",
       "      <th></th>\n",
       "      <th colspan=\"2\" halign=\"left\">collateral_value_current</th>\n",
       "      <th>cluster</th>\n",
       "    </tr>\n",
       "    <tr>\n",
       "      <th>oToken_group</th>\n",
       "      <th>oETH</th>\n",
       "      <th>stablecoin</th>\n",
       "      <th></th>\n",
       "    </tr>\n",
       "    <tr>\n",
       "      <th>address</th>\n",
       "      <th></th>\n",
       "      <th></th>\n",
       "      <th></th>\n",
       "    </tr>\n",
       "  </thead>\n",
       "  <tbody>\n",
       "    <tr>\n",
       "      <th>0xec43…1215</th>\n",
       "      <td>180963.0</td>\n",
       "      <td>1.000000e-13</td>\n",
       "      <td>2</td>\n",
       "    </tr>\n",
       "    <tr>\n",
       "      <th>0xff07…5e51</th>\n",
       "      <td>150000.0</td>\n",
       "      <td>1.000000e-13</td>\n",
       "      <td>2</td>\n",
       "    </tr>\n",
       "  </tbody>\n",
       "</table>\n",
       "</div>"
      ],
      "text/plain": [
       "             collateral_value_current               cluster\n",
       "oToken_group                     oETH    stablecoin        \n",
       "address                                                    \n",
       "0xec43…1215                  180963.0  1.000000e-13       2\n",
       "0xff07…5e51                  150000.0  1.000000e-13       2"
      ]
     },
     "execution_count": 61,
     "metadata": {},
     "output_type": "execute_result"
    }
   ],
   "source": [
    "vdf2[vdf2.cluster == 2]"
   ]
  },
  {
   "cell_type": "code",
   "execution_count": 62,
   "metadata": {},
   "outputs": [
    {
     "data": {
      "text/html": [
       "<div>\n",
       "<style scoped>\n",
       "    .dataframe tbody tr th:only-of-type {\n",
       "        vertical-align: middle;\n",
       "    }\n",
       "\n",
       "    .dataframe tbody tr th {\n",
       "        vertical-align: top;\n",
       "    }\n",
       "\n",
       "    .dataframe thead th {\n",
       "        text-align: right;\n",
       "    }\n",
       "</style>\n",
       "<table border=\"1\" class=\"dataframe\">\n",
       "  <thead>\n",
       "    <tr style=\"text-align: right;\">\n",
       "      <th></th>\n",
       "      <th>value</th>\n",
       "      <th>account</th>\n",
       "      <th>side</th>\n",
       "      <th>token</th>\n",
       "    </tr>\n",
       "  </thead>\n",
       "  <tbody>\n",
       "  </tbody>\n",
       "</table>\n",
       "</div>"
      ],
      "text/plain": [
       "Empty DataFrame\n",
       "Columns: [value, account, side, token]\n",
       "Index: []"
      ]
     },
     "execution_count": 62,
     "metadata": {},
     "output_type": "execute_result"
    }
   ],
   "source": [
    "txdf[txdf['account'] == '076c95c6cd2eb823acc6347fdf5b3dd9b83511e4']"
   ]
  },
  {
   "cell_type": "code",
   "execution_count": 63,
   "metadata": {},
   "outputs": [
    {
     "data": {
      "text/html": [
       "<div>\n",
       "<style scoped>\n",
       "    .dataframe tbody tr th:only-of-type {\n",
       "        vertical-align: middle;\n",
       "    }\n",
       "\n",
       "    .dataframe tbody tr th {\n",
       "        vertical-align: top;\n",
       "    }\n",
       "\n",
       "    .dataframe thead th {\n",
       "        text-align: right;\n",
       "    }\n",
       "</style>\n",
       "<table border=\"1\" class=\"dataframe\">\n",
       "  <thead>\n",
       "    <tr style=\"text-align: right;\">\n",
       "      <th></th>\n",
       "      <th>address</th>\n",
       "      <th>collateral</th>\n",
       "      <th>collateral_token</th>\n",
       "      <th>collateral_value_current</th>\n",
       "      <th>issued</th>\n",
       "      <th>notional_value</th>\n",
       "      <th>ratio</th>\n",
       "      <th>oToken</th>\n",
       "      <th>oToken_group</th>\n",
       "      <th>expired</th>\n",
       "    </tr>\n",
       "  </thead>\n",
       "  <tbody>\n",
       "    <tr>\n",
       "      <th>118</th>\n",
       "      <td>0xff07…5e51</td>\n",
       "      <td>50000.0</td>\n",
       "      <td>USDC</td>\n",
       "      <td>50000.0</td>\n",
       "      <td>250.0</td>\n",
       "      <td>50000.0</td>\n",
       "      <td>1</td>\n",
       "      <td>ETH Put $200 05/15/20</td>\n",
       "      <td>oETH</td>\n",
       "      <td>0</td>\n",
       "    </tr>\n",
       "    <tr>\n",
       "      <th>131</th>\n",
       "      <td>0xff07…5e51</td>\n",
       "      <td>100000.0</td>\n",
       "      <td>USDC</td>\n",
       "      <td>100000.0</td>\n",
       "      <td>500.0</td>\n",
       "      <td>100000.0</td>\n",
       "      <td>1</td>\n",
       "      <td>ETH Put $200 05/08/20</td>\n",
       "      <td>oETH</td>\n",
       "      <td>0</td>\n",
       "    </tr>\n",
       "  </tbody>\n",
       "</table>\n",
       "</div>"
      ],
      "text/plain": [
       "         address  collateral collateral_token  collateral_value_current  \\\n",
       "118  0xff07…5e51     50000.0             USDC                   50000.0   \n",
       "131  0xff07…5e51    100000.0             USDC                  100000.0   \n",
       "\n",
       "     issued  notional_value ratio                 oToken oToken_group  expired  \n",
       "118   250.0         50000.0     1  ETH Put $200 05/15/20         oETH        0  \n",
       "131   500.0        100000.0     1  ETH Put $200 05/08/20         oETH        0  "
      ]
     },
     "execution_count": 63,
     "metadata": {},
     "output_type": "execute_result"
    }
   ],
   "source": [
    "vdf0[vdf0.address == '0xff07…5e51']"
   ]
  },
  {
   "cell_type": "code",
   "execution_count": 64,
   "metadata": {},
   "outputs": [
    {
     "data": {
      "text/html": [
       "<div>\n",
       "<style scoped>\n",
       "    .dataframe tbody tr th:only-of-type {\n",
       "        vertical-align: middle;\n",
       "    }\n",
       "\n",
       "    .dataframe tbody tr th {\n",
       "        vertical-align: top;\n",
       "    }\n",
       "\n",
       "    .dataframe thead th {\n",
       "        text-align: right;\n",
       "    }\n",
       "</style>\n",
       "<table border=\"1\" class=\"dataframe\">\n",
       "  <thead>\n",
       "    <tr style=\"text-align: right;\">\n",
       "      <th></th>\n",
       "      <th>address</th>\n",
       "      <th>collateral</th>\n",
       "      <th>collateral_token</th>\n",
       "      <th>collateral_value_current</th>\n",
       "      <th>issued</th>\n",
       "      <th>notional_value</th>\n",
       "      <th>ratio</th>\n",
       "      <th>oToken</th>\n",
       "      <th>oToken_group</th>\n",
       "      <th>expired</th>\n",
       "    </tr>\n",
       "  </thead>\n",
       "  <tbody>\n",
       "    <tr>\n",
       "      <th>129</th>\n",
       "      <td>0xec43…1215</td>\n",
       "      <td>100963.0</td>\n",
       "      <td>USDC</td>\n",
       "      <td>100963.0</td>\n",
       "      <td>504.815</td>\n",
       "      <td>100963.0</td>\n",
       "      <td>1</td>\n",
       "      <td>ETH Put $200 05/08/20</td>\n",
       "      <td>oETH</td>\n",
       "      <td>0</td>\n",
       "    </tr>\n",
       "    <tr>\n",
       "      <th>173</th>\n",
       "      <td>0xec43…1215</td>\n",
       "      <td>80000.0</td>\n",
       "      <td>USDC</td>\n",
       "      <td>80000.0</td>\n",
       "      <td>500.000</td>\n",
       "      <td>80000.0</td>\n",
       "      <td>1</td>\n",
       "      <td>ETH Put $160 05/08/20</td>\n",
       "      <td>oETH</td>\n",
       "      <td>0</td>\n",
       "    </tr>\n",
       "  </tbody>\n",
       "</table>\n",
       "</div>"
      ],
      "text/plain": [
       "         address  collateral collateral_token  collateral_value_current  \\\n",
       "129  0xec43…1215    100963.0             USDC                  100963.0   \n",
       "173  0xec43…1215     80000.0             USDC                   80000.0   \n",
       "\n",
       "      issued  notional_value ratio                 oToken oToken_group  \\\n",
       "129  504.815        100963.0     1  ETH Put $200 05/08/20         oETH   \n",
       "173  500.000         80000.0     1  ETH Put $160 05/08/20         oETH   \n",
       "\n",
       "     expired  \n",
       "129        0  \n",
       "173        0  "
      ]
     },
     "execution_count": 64,
     "metadata": {},
     "output_type": "execute_result"
    }
   ],
   "source": [
    "vdf0[vdf0.address == '0xec43…1215']"
   ]
  },
  {
   "cell_type": "code",
   "execution_count": 65,
   "metadata": {},
   "outputs": [
    {
     "data": {
      "text/html": [
       "<div>\n",
       "<style scoped>\n",
       "    .dataframe tbody tr th:only-of-type {\n",
       "        vertical-align: middle;\n",
       "    }\n",
       "\n",
       "    .dataframe tbody tr th {\n",
       "        vertical-align: top;\n",
       "    }\n",
       "\n",
       "    .dataframe thead tr th {\n",
       "        text-align: left;\n",
       "    }\n",
       "\n",
       "    .dataframe thead tr:last-of-type th {\n",
       "        text-align: right;\n",
       "    }\n",
       "</style>\n",
       "<table border=\"1\" class=\"dataframe\">\n",
       "  <thead>\n",
       "    <tr>\n",
       "      <th></th>\n",
       "      <th colspan=\"2\" halign=\"left\">collateral_value_current</th>\n",
       "    </tr>\n",
       "    <tr>\n",
       "      <th>oToken_group</th>\n",
       "      <th>oETH</th>\n",
       "      <th>stablecoin</th>\n",
       "    </tr>\n",
       "    <tr>\n",
       "      <th>address</th>\n",
       "      <th></th>\n",
       "      <th></th>\n",
       "    </tr>\n",
       "  </thead>\n",
       "  <tbody>\n",
       "    <tr>\n",
       "      <th>0x000a…5a8e</th>\n",
       "      <td>3.580000e+03</td>\n",
       "      <td>1.000000e-13</td>\n",
       "    </tr>\n",
       "    <tr>\n",
       "      <th>0x01bd…a0f2</th>\n",
       "      <td>5.000000e+04</td>\n",
       "      <td>1.000000e-13</td>\n",
       "    </tr>\n",
       "    <tr>\n",
       "      <th>0x0381…9ad4</th>\n",
       "      <td>1.291656e+02</td>\n",
       "      <td>1.000000e-13</td>\n",
       "    </tr>\n",
       "    <tr>\n",
       "      <th>0x0837…0f4f</th>\n",
       "      <td>1.000000e-13</td>\n",
       "      <td>1.096600e+01</td>\n",
       "    </tr>\n",
       "    <tr>\n",
       "      <th>0x0a33…efde</th>\n",
       "      <td>4.534986e+03</td>\n",
       "      <td>1.000000e-13</td>\n",
       "    </tr>\n",
       "  </tbody>\n",
       "</table>\n",
       "</div>"
      ],
      "text/plain": [
       "             collateral_value_current              \n",
       "oToken_group                     oETH    stablecoin\n",
       "address                                            \n",
       "0x000a…5a8e              3.580000e+03  1.000000e-13\n",
       "0x01bd…a0f2              5.000000e+04  1.000000e-13\n",
       "0x0381…9ad4              1.291656e+02  1.000000e-13\n",
       "0x0837…0f4f              1.000000e-13  1.096600e+01\n",
       "0x0a33…efde              4.534986e+03  1.000000e-13"
      ]
     },
     "execution_count": 65,
     "metadata": {},
     "output_type": "execute_result"
    }
   ],
   "source": [
    "vdf3 = vdf2.drop(columns = ['cluster'])\n",
    "vdf3.head()"
   ]
  },
  {
   "cell_type": "code",
   "execution_count": 66,
   "metadata": {},
   "outputs": [],
   "source": [
    "vdf3['both'] = np.where((vdf3['collateral_value_current','oETH'] > .0001) \n",
    "                        & (vdf3['collateral_value_current', 'stablecoin'] > .0001), 1, 0)"
   ]
  },
  {
   "cell_type": "code",
   "execution_count": 67,
   "metadata": {},
   "outputs": [
    {
     "data": {
      "text/plain": [
       "0.058394160583941604"
      ]
     },
     "execution_count": 67,
     "metadata": {},
     "output_type": "execute_result"
    }
   ],
   "source": [
    "sum(vdf3.both) / len(vdf3.both)"
   ]
  },
  {
   "cell_type": "code",
   "execution_count": 68,
   "metadata": {},
   "outputs": [
    {
     "data": {
      "text/html": [
       "<div>\n",
       "<style scoped>\n",
       "    .dataframe tbody tr th:only-of-type {\n",
       "        vertical-align: middle;\n",
       "    }\n",
       "\n",
       "    .dataframe tbody tr th {\n",
       "        vertical-align: top;\n",
       "    }\n",
       "\n",
       "    .dataframe thead tr th {\n",
       "        text-align: left;\n",
       "    }\n",
       "\n",
       "    .dataframe thead tr:last-of-type th {\n",
       "        text-align: right;\n",
       "    }\n",
       "</style>\n",
       "<table border=\"1\" class=\"dataframe\">\n",
       "  <thead>\n",
       "    <tr>\n",
       "      <th></th>\n",
       "      <th colspan=\"2\" halign=\"left\">collateral_value_current</th>\n",
       "      <th>both</th>\n",
       "    </tr>\n",
       "    <tr>\n",
       "      <th>oToken_group</th>\n",
       "      <th>oETH</th>\n",
       "      <th>stablecoin</th>\n",
       "      <th></th>\n",
       "    </tr>\n",
       "    <tr>\n",
       "      <th>address</th>\n",
       "      <th></th>\n",
       "      <th></th>\n",
       "      <th></th>\n",
       "    </tr>\n",
       "  </thead>\n",
       "  <tbody>\n",
       "    <tr>\n",
       "      <th>0x3111…faca</th>\n",
       "      <td>22.410000</td>\n",
       "      <td>21.40000</td>\n",
       "      <td>1</td>\n",
       "    </tr>\n",
       "    <tr>\n",
       "      <th>0x33f7…c452</th>\n",
       "      <td>137.980802</td>\n",
       "      <td>53.50000</td>\n",
       "      <td>1</td>\n",
       "    </tr>\n",
       "    <tr>\n",
       "      <th>0x62e1…5208</th>\n",
       "      <td>905.000000</td>\n",
       "      <td>26.75000</td>\n",
       "      <td>1</td>\n",
       "    </tr>\n",
       "    <tr>\n",
       "      <th>0x6cfa…0f04</th>\n",
       "      <td>14500.000000</td>\n",
       "      <td>1070.00000</td>\n",
       "      <td>1</td>\n",
       "    </tr>\n",
       "    <tr>\n",
       "      <th>0x75b3…b236</th>\n",
       "      <td>31.000000</td>\n",
       "      <td>2.16140</td>\n",
       "      <td>1</td>\n",
       "    </tr>\n",
       "    <tr>\n",
       "      <th>0x9e68…7d84</th>\n",
       "      <td>2.000000</td>\n",
       "      <td>17214.32692</td>\n",
       "      <td>1</td>\n",
       "    </tr>\n",
       "    <tr>\n",
       "      <th>0xa6e3…54f3</th>\n",
       "      <td>3857.441434</td>\n",
       "      <td>1070.00000</td>\n",
       "      <td>1</td>\n",
       "    </tr>\n",
       "    <tr>\n",
       "      <th>0xe3b1…f646</th>\n",
       "      <td>100.000000</td>\n",
       "      <td>214.00000</td>\n",
       "      <td>1</td>\n",
       "    </tr>\n",
       "  </tbody>\n",
       "</table>\n",
       "</div>"
      ],
      "text/plain": [
       "             collateral_value_current              both\n",
       "oToken_group                     oETH   stablecoin     \n",
       "address                                                \n",
       "0x3111…faca                 22.410000     21.40000    1\n",
       "0x33f7…c452                137.980802     53.50000    1\n",
       "0x62e1…5208                905.000000     26.75000    1\n",
       "0x6cfa…0f04              14500.000000   1070.00000    1\n",
       "0x75b3…b236                 31.000000      2.16140    1\n",
       "0x9e68…7d84                  2.000000  17214.32692    1\n",
       "0xa6e3…54f3               3857.441434   1070.00000    1\n",
       "0xe3b1…f646                100.000000    214.00000    1"
      ]
     },
     "execution_count": 68,
     "metadata": {},
     "output_type": "execute_result"
    }
   ],
   "source": [
    "vdf3[vdf3.both == 1]"
   ]
  },
  {
   "cell_type": "code",
   "execution_count": null,
   "metadata": {},
   "outputs": [],
   "source": []
  }
 ],
 "metadata": {
  "kernelspec": {
   "display_name": "Python 3",
   "language": "python",
   "name": "python3"
  },
  "language_info": {
   "codemirror_mode": {
    "name": "ipython",
    "version": 3
   },
   "file_extension": ".py",
   "mimetype": "text/x-python",
   "name": "python",
   "nbconvert_exporter": "python",
   "pygments_lexer": "ipython3",
   "version": "3.8.1"
  }
 },
 "nbformat": 4,
 "nbformat_minor": 2
}
